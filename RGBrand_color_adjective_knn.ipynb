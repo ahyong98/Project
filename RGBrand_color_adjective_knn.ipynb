{
  "nbformat": 4,
  "nbformat_minor": 0,
  "metadata": {
    "colab": {
      "name": "iri knn.ipynb",
      "provenance": [],
      "collapsed_sections": []
    },
    "kernelspec": {
      "name": "python3",
      "display_name": "Python 3"
    }
  },
  "cells": [
    {
      "cell_type": "markdown",
      "metadata": {
        "id": "yO5lyUcjDyUn"
      },
      "source": [
        "# 데이터"
      ]
    },
    {
      "cell_type": "code",
      "metadata": {
        "id": "4LgJnfyJCuXj",
        "colab": {
          "base_uri": "https://localhost:8080/",
          "height": 198
        },
        "outputId": "798eac58-4259-4fbd-d418-9885938468e3"
      },
      "source": [
        "import pandas as pd\n",
        "\n",
        "data = pd.read_csv('/content/drive/My Drive/ADV/형용사/iri.csv',encoding='cp949')\n",
        "data.head()"
      ],
      "execution_count": null,
      "outputs": [
        {
          "output_type": "execute_result",
          "data": {
            "text/html": [
              "<div>\n",
              "<style scoped>\n",
              "    .dataframe tbody tr th:only-of-type {\n",
              "        vertical-align: middle;\n",
              "    }\n",
              "\n",
              "    .dataframe tbody tr th {\n",
              "        vertical-align: top;\n",
              "    }\n",
              "\n",
              "    .dataframe thead th {\n",
              "        text-align: right;\n",
              "    }\n",
              "</style>\n",
              "<table border=\"1\" class=\"dataframe\">\n",
              "  <thead>\n",
              "    <tr style=\"text-align: right;\">\n",
              "      <th></th>\n",
              "      <th>대분류</th>\n",
              "      <th>소분류</th>\n",
              "      <th>point id</th>\n",
              "      <th>x</th>\n",
              "      <th>y</th>\n",
              "      <th>R</th>\n",
              "      <th>G</th>\n",
              "      <th>B</th>\n",
              "      <th>X</th>\n",
              "      <th>Y</th>\n",
              "      <th>Unnamed: 10</th>\n",
              "      <th>Unnamed: 11</th>\n",
              "      <th>x217 y219</th>\n",
              "    </tr>\n",
              "  </thead>\n",
              "  <tbody>\n",
              "    <tr>\n",
              "      <th>0</th>\n",
              "      <td>NaN</td>\n",
              "      <td>NaN</td>\n",
              "      <td>0</td>\n",
              "      <td>53</td>\n",
              "      <td>419</td>\n",
              "      <td>255</td>\n",
              "      <td>243</td>\n",
              "      <td>114</td>\n",
              "      <td>-164</td>\n",
              "      <td>200</td>\n",
              "      <td>NaN</td>\n",
              "      <td>NaN</td>\n",
              "      <td>NaN</td>\n",
              "    </tr>\n",
              "    <tr>\n",
              "      <th>1</th>\n",
              "      <td>NaN</td>\n",
              "      <td>NaN</td>\n",
              "      <td>1</td>\n",
              "      <td>95</td>\n",
              "      <td>373</td>\n",
              "      <td>241</td>\n",
              "      <td>219</td>\n",
              "      <td>1</td>\n",
              "      <td>-122</td>\n",
              "      <td>154</td>\n",
              "      <td>NaN</td>\n",
              "      <td>NaN</td>\n",
              "      <td>NaN</td>\n",
              "    </tr>\n",
              "    <tr>\n",
              "      <th>2</th>\n",
              "      <td>NaN</td>\n",
              "      <td>NaN</td>\n",
              "      <td>2</td>\n",
              "      <td>139</td>\n",
              "      <td>377</td>\n",
              "      <td>244</td>\n",
              "      <td>166</td>\n",
              "      <td>159</td>\n",
              "      <td>-78</td>\n",
              "      <td>158</td>\n",
              "      <td>NaN</td>\n",
              "      <td>NaN</td>\n",
              "      <td>NaN</td>\n",
              "    </tr>\n",
              "    <tr>\n",
              "      <th>3</th>\n",
              "      <td>NaN</td>\n",
              "      <td>NaN</td>\n",
              "      <td>3</td>\n",
              "      <td>143</td>\n",
              "      <td>397</td>\n",
              "      <td>235</td>\n",
              "      <td>164</td>\n",
              "      <td>190</td>\n",
              "      <td>-74</td>\n",
              "      <td>178</td>\n",
              "      <td>NaN</td>\n",
              "      <td>NaN</td>\n",
              "      <td>NaN</td>\n",
              "    </tr>\n",
              "    <tr>\n",
              "      <th>4</th>\n",
              "      <td>NaN</td>\n",
              "      <td>NaN</td>\n",
              "      <td>4</td>\n",
              "      <td>187</td>\n",
              "      <td>373</td>\n",
              "      <td>178</td>\n",
              "      <td>229</td>\n",
              "      <td>197</td>\n",
              "      <td>-30</td>\n",
              "      <td>154</td>\n",
              "      <td>NaN</td>\n",
              "      <td>NaN</td>\n",
              "      <td>NaN</td>\n",
              "    </tr>\n",
              "  </tbody>\n",
              "</table>\n",
              "</div>"
            ],
            "text/plain": [
              "   대분류  소분류  point id    x    y  ...    X    Y  Unnamed: 10  Unnamed: 11  x217 y219\n",
              "0  NaN  NaN         0   53  419  ... -164  200          NaN          NaN        NaN\n",
              "1  NaN  NaN         1   95  373  ... -122  154          NaN          NaN        NaN\n",
              "2  NaN  NaN         2  139  377  ...  -78  158          NaN          NaN        NaN\n",
              "3  NaN  NaN         3  143  397  ...  -74  178          NaN          NaN        NaN\n",
              "4  NaN  NaN         4  187  373  ...  -30  154          NaN          NaN        NaN\n",
              "\n",
              "[5 rows x 13 columns]"
            ]
          },
          "metadata": {
            "tags": []
          },
          "execution_count": 1
        }
      ]
    },
    {
      "cell_type": "code",
      "metadata": {
        "id": "rtW4HJqsD0vK",
        "colab": {
          "base_uri": "https://localhost:8080/",
          "height": 198
        },
        "outputId": "e16a4469-f1d3-422e-d535-691a11f521f5"
      },
      "source": [
        "data2 = pd.read_csv('/content/drive/My Drive/ADV/interbrand/interbrand.csv',encoding='cp949')\n",
        "data2.head()"
      ],
      "execution_count": null,
      "outputs": [
        {
          "output_type": "execute_result",
          "data": {
            "text/html": [
              "<div>\n",
              "<style scoped>\n",
              "    .dataframe tbody tr th:only-of-type {\n",
              "        vertical-align: middle;\n",
              "    }\n",
              "\n",
              "    .dataframe tbody tr th {\n",
              "        vertical-align: top;\n",
              "    }\n",
              "\n",
              "    .dataframe thead th {\n",
              "        text-align: right;\n",
              "    }\n",
              "</style>\n",
              "<table border=\"1\" class=\"dataframe\">\n",
              "  <thead>\n",
              "    <tr style=\"text-align: right;\">\n",
              "      <th></th>\n",
              "      <th>names</th>\n",
              "      <th>Img</th>\n",
              "      <th>R</th>\n",
              "      <th>G</th>\n",
              "      <th>B</th>\n",
              "      <th>text color</th>\n",
              "      <th>로고 유형</th>\n",
              "      <th>비고</th>\n",
              "      <th>color_1</th>\n",
              "      <th>color_2</th>\n",
              "      <th>color_3</th>\n",
              "      <th>color_3.1</th>\n",
              "      <th>Unnamed: 12</th>\n",
              "      <th>Unnamed: 13</th>\n",
              "    </tr>\n",
              "  </thead>\n",
              "  <tbody>\n",
              "    <tr>\n",
              "      <th>0</th>\n",
              "      <td>3M</td>\n",
              "      <td>https://www.interbrand.com/assets/00000001482.png</td>\n",
              "      <td>237</td>\n",
              "      <td>32</td>\n",
              "      <td>35</td>\n",
              "      <td>매치</td>\n",
              "      <td>1.0</td>\n",
              "      <td>NaN</td>\n",
              "      <td>237/32/35</td>\n",
              "      <td>NaN</td>\n",
              "      <td>NaN</td>\n",
              "      <td>NaN</td>\n",
              "      <td>NaN</td>\n",
              "      <td>NaN</td>\n",
              "    </tr>\n",
              "    <tr>\n",
              "      <th>1</th>\n",
              "      <td>Absolut</td>\n",
              "      <td>https://www.interbrand.com/assets/00000000005.png</td>\n",
              "      <td>14</td>\n",
              "      <td>80</td>\n",
              "      <td>157</td>\n",
              "      <td>매치</td>\n",
              "      <td>1.0</td>\n",
              "      <td>NaN</td>\n",
              "      <td>14/80/157</td>\n",
              "      <td>NaN</td>\n",
              "      <td>NaN</td>\n",
              "      <td>NaN</td>\n",
              "      <td>NaN</td>\n",
              "      <td>NaN</td>\n",
              "    </tr>\n",
              "    <tr>\n",
              "      <th>2</th>\n",
              "      <td>Accenture</td>\n",
              "      <td>https://www.interbrand.com/assets/00000001483.png</td>\n",
              "      <td>0</td>\n",
              "      <td>0</td>\n",
              "      <td>0</td>\n",
              "      <td>매치</td>\n",
              "      <td>4.0</td>\n",
              "      <td>다색</td>\n",
              "      <td>0/0/0</td>\n",
              "      <td>189/0/254</td>\n",
              "      <td>NaN</td>\n",
              "      <td>NaN</td>\n",
              "      <td>NaN</td>\n",
              "      <td>NaN</td>\n",
              "    </tr>\n",
              "    <tr>\n",
              "      <th>3</th>\n",
              "      <td>adidas</td>\n",
              "      <td>https://www.interbrand.com/assets/00000001484.png</td>\n",
              "      <td>0</td>\n",
              "      <td>0</td>\n",
              "      <td>0</td>\n",
              "      <td>매치</td>\n",
              "      <td>4.0</td>\n",
              "      <td>NaN</td>\n",
              "      <td>0/0/0</td>\n",
              "      <td>NaN</td>\n",
              "      <td>NaN</td>\n",
              "      <td>NaN</td>\n",
              "      <td>NaN</td>\n",
              "      <td>NaN</td>\n",
              "    </tr>\n",
              "    <tr>\n",
              "      <th>4</th>\n",
              "      <td>Adobe</td>\n",
              "      <td>https://www.interbrand.com/assets/00000001485.png</td>\n",
              "      <td>255</td>\n",
              "      <td>0</td>\n",
              "      <td>0</td>\n",
              "      <td>무채색</td>\n",
              "      <td>4.0</td>\n",
              "      <td>다색</td>\n",
              "      <td>254/0/0</td>\n",
              "      <td>0/0/0</td>\n",
              "      <td>NaN</td>\n",
              "      <td>NaN</td>\n",
              "      <td>NaN</td>\n",
              "      <td>NaN</td>\n",
              "    </tr>\n",
              "  </tbody>\n",
              "</table>\n",
              "</div>"
            ],
            "text/plain": [
              "       names  ... Unnamed: 13\n",
              "0         3M  ...         NaN\n",
              "1    Absolut  ...         NaN\n",
              "2  Accenture  ...         NaN\n",
              "3     adidas  ...         NaN\n",
              "4      Adobe  ...         NaN\n",
              "\n",
              "[5 rows x 14 columns]"
            ]
          },
          "metadata": {
            "tags": []
          },
          "execution_count": 2
        }
      ]
    },
    {
      "cell_type": "markdown",
      "metadata": {
        "id": "H17izJu_Dzvl"
      },
      "source": [
        "## KNN"
      ]
    },
    {
      "cell_type": "code",
      "metadata": {
        "id": "UIZEsFcpDu2F"
      },
      "source": [
        "from sklearn.neighbors import KNeighborsClassifier\n",
        "\n",
        "knn = KNeighborsClassifier(n_neighbors = 1)"
      ],
      "execution_count": null,
      "outputs": []
    },
    {
      "cell_type": "code",
      "metadata": {
        "id": "ng9_B_yqEnnU"
      },
      "source": [
        "x_train = data[['R','G','B']]\n",
        "y_train = data['point id']"
      ],
      "execution_count": null,
      "outputs": []
    },
    {
      "cell_type": "code",
      "metadata": {
        "id": "QE1Nm-WwEbMS",
        "colab": {
          "base_uri": "https://localhost:8080/",
          "height": 72
        },
        "outputId": "8fc45256-07e7-4df5-c747-03d0c5d66076"
      },
      "source": [
        "knn.fit(x_train,y_train)"
      ],
      "execution_count": null,
      "outputs": [
        {
          "output_type": "execute_result",
          "data": {
            "text/plain": [
              "KNeighborsClassifier(algorithm='auto', leaf_size=30, metric='minkowski',\n",
              "                     metric_params=None, n_jobs=None, n_neighbors=1, p=2,\n",
              "                     weights='uniform')"
            ]
          },
          "metadata": {
            "tags": []
          },
          "execution_count": 5
        }
      ]
    },
    {
      "cell_type": "code",
      "metadata": {
        "id": "BVMGHlLkEwV5",
        "colab": {
          "base_uri": "https://localhost:8080/",
          "height": 215
        },
        "outputId": "954b1a30-ee1b-4a29-e935-978ae6e737eb"
      },
      "source": [
        "data2_knn = pd.DataFrame(knn.predict(data2[['R','G','B']]))\n",
        "data2_knn.columns = ['knn predict']\n",
        "\n",
        "res = pd.concat([data2,data2_knn], axis=1)\n",
        "res.head()"
      ],
      "execution_count": null,
      "outputs": [
        {
          "output_type": "execute_result",
          "data": {
            "text/html": [
              "<div>\n",
              "<style scoped>\n",
              "    .dataframe tbody tr th:only-of-type {\n",
              "        vertical-align: middle;\n",
              "    }\n",
              "\n",
              "    .dataframe tbody tr th {\n",
              "        vertical-align: top;\n",
              "    }\n",
              "\n",
              "    .dataframe thead th {\n",
              "        text-align: right;\n",
              "    }\n",
              "</style>\n",
              "<table border=\"1\" class=\"dataframe\">\n",
              "  <thead>\n",
              "    <tr style=\"text-align: right;\">\n",
              "      <th></th>\n",
              "      <th>names</th>\n",
              "      <th>Img</th>\n",
              "      <th>R</th>\n",
              "      <th>G</th>\n",
              "      <th>B</th>\n",
              "      <th>text color</th>\n",
              "      <th>로고 유형</th>\n",
              "      <th>비고</th>\n",
              "      <th>color_1</th>\n",
              "      <th>color_2</th>\n",
              "      <th>color_3</th>\n",
              "      <th>color_3.1</th>\n",
              "      <th>Unnamed: 12</th>\n",
              "      <th>Unnamed: 13</th>\n",
              "      <th>knn predict</th>\n",
              "    </tr>\n",
              "  </thead>\n",
              "  <tbody>\n",
              "    <tr>\n",
              "      <th>0</th>\n",
              "      <td>3M</td>\n",
              "      <td>https://www.interbrand.com/assets/00000001482.png</td>\n",
              "      <td>237</td>\n",
              "      <td>32</td>\n",
              "      <td>35</td>\n",
              "      <td>매치</td>\n",
              "      <td>1.0</td>\n",
              "      <td>NaN</td>\n",
              "      <td>237/32/35</td>\n",
              "      <td>NaN</td>\n",
              "      <td>NaN</td>\n",
              "      <td>NaN</td>\n",
              "      <td>NaN</td>\n",
              "      <td>NaN</td>\n",
              "      <td>37</td>\n",
              "    </tr>\n",
              "    <tr>\n",
              "      <th>1</th>\n",
              "      <td>Absolut</td>\n",
              "      <td>https://www.interbrand.com/assets/00000000005.png</td>\n",
              "      <td>14</td>\n",
              "      <td>80</td>\n",
              "      <td>157</td>\n",
              "      <td>매치</td>\n",
              "      <td>1.0</td>\n",
              "      <td>NaN</td>\n",
              "      <td>14/80/157</td>\n",
              "      <td>NaN</td>\n",
              "      <td>NaN</td>\n",
              "      <td>NaN</td>\n",
              "      <td>NaN</td>\n",
              "      <td>NaN</td>\n",
              "      <td>94</td>\n",
              "    </tr>\n",
              "    <tr>\n",
              "      <th>2</th>\n",
              "      <td>Accenture</td>\n",
              "      <td>https://www.interbrand.com/assets/00000001483.png</td>\n",
              "      <td>0</td>\n",
              "      <td>0</td>\n",
              "      <td>0</td>\n",
              "      <td>매치</td>\n",
              "      <td>4.0</td>\n",
              "      <td>다색</td>\n",
              "      <td>0/0/0</td>\n",
              "      <td>189/0/254</td>\n",
              "      <td>NaN</td>\n",
              "      <td>NaN</td>\n",
              "      <td>NaN</td>\n",
              "      <td>NaN</td>\n",
              "      <td>116</td>\n",
              "    </tr>\n",
              "    <tr>\n",
              "      <th>3</th>\n",
              "      <td>adidas</td>\n",
              "      <td>https://www.interbrand.com/assets/00000001484.png</td>\n",
              "      <td>0</td>\n",
              "      <td>0</td>\n",
              "      <td>0</td>\n",
              "      <td>매치</td>\n",
              "      <td>4.0</td>\n",
              "      <td>NaN</td>\n",
              "      <td>0/0/0</td>\n",
              "      <td>NaN</td>\n",
              "      <td>NaN</td>\n",
              "      <td>NaN</td>\n",
              "      <td>NaN</td>\n",
              "      <td>NaN</td>\n",
              "      <td>116</td>\n",
              "    </tr>\n",
              "    <tr>\n",
              "      <th>4</th>\n",
              "      <td>Adobe</td>\n",
              "      <td>https://www.interbrand.com/assets/00000001485.png</td>\n",
              "      <td>255</td>\n",
              "      <td>0</td>\n",
              "      <td>0</td>\n",
              "      <td>무채색</td>\n",
              "      <td>4.0</td>\n",
              "      <td>다색</td>\n",
              "      <td>254/0/0</td>\n",
              "      <td>0/0/0</td>\n",
              "      <td>NaN</td>\n",
              "      <td>NaN</td>\n",
              "      <td>NaN</td>\n",
              "      <td>NaN</td>\n",
              "      <td>37</td>\n",
              "    </tr>\n",
              "  </tbody>\n",
              "</table>\n",
              "</div>"
            ],
            "text/plain": [
              "       names  ... knn predict\n",
              "0         3M  ...          37\n",
              "1    Absolut  ...          94\n",
              "2  Accenture  ...         116\n",
              "3     adidas  ...         116\n",
              "4      Adobe  ...          37\n",
              "\n",
              "[5 rows x 15 columns]"
            ]
          },
          "metadata": {
            "tags": []
          },
          "execution_count": 6
        }
      ]
    },
    {
      "cell_type": "markdown",
      "metadata": {
        "id": "_-hlMC0KGGSn"
      },
      "source": [
        "* 데이터 조인"
      ]
    },
    {
      "cell_type": "code",
      "metadata": {
        "id": "Xd1ihR7HGEht",
        "colab": {
          "base_uri": "https://localhost:8080/",
          "height": 270
        },
        "outputId": "61c00e59-73b9-4fd6-ccfb-17f9e7ffa7aa"
      },
      "source": [
        "mer = pd.merge(data,res,how='right',left_on='point id', right_on='knn predict')\n",
        "mer.head()"
      ],
      "execution_count": null,
      "outputs": [
        {
          "output_type": "execute_result",
          "data": {
            "text/html": [
              "<div>\n",
              "<style scoped>\n",
              "    .dataframe tbody tr th:only-of-type {\n",
              "        vertical-align: middle;\n",
              "    }\n",
              "\n",
              "    .dataframe tbody tr th {\n",
              "        vertical-align: top;\n",
              "    }\n",
              "\n",
              "    .dataframe thead th {\n",
              "        text-align: right;\n",
              "    }\n",
              "</style>\n",
              "<table border=\"1\" class=\"dataframe\">\n",
              "  <thead>\n",
              "    <tr style=\"text-align: right;\">\n",
              "      <th></th>\n",
              "      <th>대분류</th>\n",
              "      <th>소분류</th>\n",
              "      <th>point id</th>\n",
              "      <th>x</th>\n",
              "      <th>y</th>\n",
              "      <th>R_x</th>\n",
              "      <th>G_x</th>\n",
              "      <th>B_x</th>\n",
              "      <th>X</th>\n",
              "      <th>Y</th>\n",
              "      <th>Unnamed: 10</th>\n",
              "      <th>Unnamed: 11</th>\n",
              "      <th>x217 y219</th>\n",
              "      <th>names</th>\n",
              "      <th>Img</th>\n",
              "      <th>R_y</th>\n",
              "      <th>G_y</th>\n",
              "      <th>B_y</th>\n",
              "      <th>text color</th>\n",
              "      <th>로고 유형</th>\n",
              "      <th>비고</th>\n",
              "      <th>color_1</th>\n",
              "      <th>color_2</th>\n",
              "      <th>color_3</th>\n",
              "      <th>color_3.1</th>\n",
              "      <th>Unnamed: 12</th>\n",
              "      <th>Unnamed: 13</th>\n",
              "      <th>knn predict</th>\n",
              "    </tr>\n",
              "  </thead>\n",
              "  <tbody>\n",
              "    <tr>\n",
              "      <th>0</th>\n",
              "      <td>NaN</td>\n",
              "      <td>NaN</td>\n",
              "      <td>0</td>\n",
              "      <td>53</td>\n",
              "      <td>419</td>\n",
              "      <td>255</td>\n",
              "      <td>243</td>\n",
              "      <td>114</td>\n",
              "      <td>-164</td>\n",
              "      <td>200</td>\n",
              "      <td>NaN</td>\n",
              "      <td>NaN</td>\n",
              "      <td>NaN</td>\n",
              "      <td>Novartis</td>\n",
              "      <td>https://www.interbrand.com/assets/00000001267.png</td>\n",
              "      <td>255</td>\n",
              "      <td>214</td>\n",
              "      <td>76</td>\n",
              "      <td>매치</td>\n",
              "      <td>4.0</td>\n",
              "      <td>다색</td>\n",
              "      <td>7/133/173</td>\n",
              "      <td>242/104/42</td>\n",
              "      <td>255/213/76</td>\n",
              "      <td>NaN</td>\n",
              "      <td>NaN</td>\n",
              "      <td>NaN</td>\n",
              "      <td>0</td>\n",
              "    </tr>\n",
              "    <tr>\n",
              "      <th>1</th>\n",
              "      <td>NaN</td>\n",
              "      <td>NaN</td>\n",
              "      <td>1</td>\n",
              "      <td>95</td>\n",
              "      <td>373</td>\n",
              "      <td>241</td>\n",
              "      <td>219</td>\n",
              "      <td>1</td>\n",
              "      <td>-122</td>\n",
              "      <td>154</td>\n",
              "      <td>NaN</td>\n",
              "      <td>NaN</td>\n",
              "      <td>NaN</td>\n",
              "      <td>DHL</td>\n",
              "      <td>https://www.interbrand.com/assets/00000001504.png</td>\n",
              "      <td>255</td>\n",
              "      <td>204</td>\n",
              "      <td>0</td>\n",
              "      <td>매치</td>\n",
              "      <td>5.0</td>\n",
              "      <td>다색</td>\n",
              "      <td>214/4/17</td>\n",
              "      <td>255/204/0</td>\n",
              "      <td>NaN</td>\n",
              "      <td>NaN</td>\n",
              "      <td>NaN</td>\n",
              "      <td>NaN</td>\n",
              "      <td>1</td>\n",
              "    </tr>\n",
              "    <tr>\n",
              "      <th>2</th>\n",
              "      <td>NaN</td>\n",
              "      <td>NaN</td>\n",
              "      <td>1</td>\n",
              "      <td>95</td>\n",
              "      <td>373</td>\n",
              "      <td>241</td>\n",
              "      <td>219</td>\n",
              "      <td>1</td>\n",
              "      <td>-122</td>\n",
              "      <td>154</td>\n",
              "      <td>NaN</td>\n",
              "      <td>NaN</td>\n",
              "      <td>NaN</td>\n",
              "      <td>IKEA</td>\n",
              "      <td>https://www.interbrand.com/assets/00000001529.png</td>\n",
              "      <td>255</td>\n",
              "      <td>214</td>\n",
              "      <td>0</td>\n",
              "      <td>매치</td>\n",
              "      <td>5.0</td>\n",
              "      <td>다색</td>\n",
              "      <td>0/87/163</td>\n",
              "      <td>255/214/0</td>\n",
              "      <td>NaN</td>\n",
              "      <td>NaN</td>\n",
              "      <td>NaN</td>\n",
              "      <td>NaN</td>\n",
              "      <td>1</td>\n",
              "    </tr>\n",
              "    <tr>\n",
              "      <th>3</th>\n",
              "      <td>NaN</td>\n",
              "      <td>NaN</td>\n",
              "      <td>1</td>\n",
              "      <td>95</td>\n",
              "      <td>373</td>\n",
              "      <td>241</td>\n",
              "      <td>219</td>\n",
              "      <td>1</td>\n",
              "      <td>-122</td>\n",
              "      <td>154</td>\n",
              "      <td>NaN</td>\n",
              "      <td>NaN</td>\n",
              "      <td>NaN</td>\n",
              "      <td>Kakao</td>\n",
              "      <td>https://www.interbrand.com/assets/00000001707.png</td>\n",
              "      <td>254</td>\n",
              "      <td>205</td>\n",
              "      <td>0</td>\n",
              "      <td>매치</td>\n",
              "      <td>1.0</td>\n",
              "      <td>NaN</td>\n",
              "      <td>254/205/0</td>\n",
              "      <td>NaN</td>\n",
              "      <td>NaN</td>\n",
              "      <td>NaN</td>\n",
              "      <td>NaN</td>\n",
              "      <td>NaN</td>\n",
              "      <td>1</td>\n",
              "    </tr>\n",
              "    <tr>\n",
              "      <th>4</th>\n",
              "      <td>NaN</td>\n",
              "      <td>NaN</td>\n",
              "      <td>1</td>\n",
              "      <td>95</td>\n",
              "      <td>373</td>\n",
              "      <td>241</td>\n",
              "      <td>219</td>\n",
              "      <td>1</td>\n",
              "      <td>-122</td>\n",
              "      <td>154</td>\n",
              "      <td>NaN</td>\n",
              "      <td>NaN</td>\n",
              "      <td>NaN</td>\n",
              "      <td>McDonald's</td>\n",
              "      <td>https://www.interbrand.com/assets/00000001544.png</td>\n",
              "      <td>252</td>\n",
              "      <td>210</td>\n",
              "      <td>0</td>\n",
              "      <td>없음</td>\n",
              "      <td>2.0</td>\n",
              "      <td>NaN</td>\n",
              "      <td>255/212/0</td>\n",
              "      <td>NaN</td>\n",
              "      <td>NaN</td>\n",
              "      <td>NaN</td>\n",
              "      <td>NaN</td>\n",
              "      <td>NaN</td>\n",
              "      <td>1</td>\n",
              "    </tr>\n",
              "  </tbody>\n",
              "</table>\n",
              "</div>"
            ],
            "text/plain": [
              "   대분류  소분류  point id   x  ...  color_3.1  Unnamed: 12  Unnamed: 13  knn predict\n",
              "0  NaN  NaN         0  53  ...        NaN          NaN          NaN            0\n",
              "1  NaN  NaN         1  95  ...        NaN          NaN          NaN            1\n",
              "2  NaN  NaN         1  95  ...        NaN          NaN          NaN            1\n",
              "3  NaN  NaN         1  95  ...        NaN          NaN          NaN            1\n",
              "4  NaN  NaN         1  95  ...        NaN          NaN          NaN            1\n",
              "\n",
              "[5 rows x 28 columns]"
            ]
          },
          "metadata": {
            "tags": []
          },
          "execution_count": 7
        }
      ]
    },
    {
      "cell_type": "code",
      "metadata": {
        "id": "QQsyGzB6JLwl",
        "colab": {
          "base_uri": "https://localhost:8080/",
          "height": 198
        },
        "outputId": "f18bcb06-738a-4b71-c13f-9edb6bb353ba"
      },
      "source": [
        "sam_mer = mer[['names','R_y','G_y','B_y','x','y','knn predict']]\n",
        "sam_mer.columns=['names','R','G','B','x','y','knn predict']\n",
        "sam_mer.head()"
      ],
      "execution_count": null,
      "outputs": [
        {
          "output_type": "execute_result",
          "data": {
            "text/html": [
              "<div>\n",
              "<style scoped>\n",
              "    .dataframe tbody tr th:only-of-type {\n",
              "        vertical-align: middle;\n",
              "    }\n",
              "\n",
              "    .dataframe tbody tr th {\n",
              "        vertical-align: top;\n",
              "    }\n",
              "\n",
              "    .dataframe thead th {\n",
              "        text-align: right;\n",
              "    }\n",
              "</style>\n",
              "<table border=\"1\" class=\"dataframe\">\n",
              "  <thead>\n",
              "    <tr style=\"text-align: right;\">\n",
              "      <th></th>\n",
              "      <th>names</th>\n",
              "      <th>R</th>\n",
              "      <th>G</th>\n",
              "      <th>B</th>\n",
              "      <th>x</th>\n",
              "      <th>y</th>\n",
              "      <th>knn predict</th>\n",
              "    </tr>\n",
              "  </thead>\n",
              "  <tbody>\n",
              "    <tr>\n",
              "      <th>0</th>\n",
              "      <td>Novartis</td>\n",
              "      <td>255</td>\n",
              "      <td>214</td>\n",
              "      <td>76</td>\n",
              "      <td>53</td>\n",
              "      <td>419</td>\n",
              "      <td>0</td>\n",
              "    </tr>\n",
              "    <tr>\n",
              "      <th>1</th>\n",
              "      <td>DHL</td>\n",
              "      <td>255</td>\n",
              "      <td>204</td>\n",
              "      <td>0</td>\n",
              "      <td>95</td>\n",
              "      <td>373</td>\n",
              "      <td>1</td>\n",
              "    </tr>\n",
              "    <tr>\n",
              "      <th>2</th>\n",
              "      <td>IKEA</td>\n",
              "      <td>255</td>\n",
              "      <td>214</td>\n",
              "      <td>0</td>\n",
              "      <td>95</td>\n",
              "      <td>373</td>\n",
              "      <td>1</td>\n",
              "    </tr>\n",
              "    <tr>\n",
              "      <th>3</th>\n",
              "      <td>Kakao</td>\n",
              "      <td>254</td>\n",
              "      <td>205</td>\n",
              "      <td>0</td>\n",
              "      <td>95</td>\n",
              "      <td>373</td>\n",
              "      <td>1</td>\n",
              "    </tr>\n",
              "    <tr>\n",
              "      <th>4</th>\n",
              "      <td>McDonald's</td>\n",
              "      <td>252</td>\n",
              "      <td>210</td>\n",
              "      <td>0</td>\n",
              "      <td>95</td>\n",
              "      <td>373</td>\n",
              "      <td>1</td>\n",
              "    </tr>\n",
              "  </tbody>\n",
              "</table>\n",
              "</div>"
            ],
            "text/plain": [
              "        names    R    G   B   x    y  knn predict\n",
              "0    Novartis  255  214  76  53  419            0\n",
              "1         DHL  255  204   0  95  373            1\n",
              "2        IKEA  255  214   0  95  373            1\n",
              "3       Kakao  254  205   0  95  373            1\n",
              "4  McDonald's  252  210   0  95  373            1"
            ]
          },
          "metadata": {
            "tags": []
          },
          "execution_count": 59
        }
      ]
    },
    {
      "cell_type": "markdown",
      "metadata": {
        "id": "RXA0S2JVFm09"
      },
      "source": [
        "## 좌표"
      ]
    },
    {
      "cell_type": "code",
      "metadata": {
        "id": "0EPgLyuSFhlU"
      },
      "source": [
        "import matplotlib.pyplot as plt"
      ],
      "execution_count": null,
      "outputs": []
    },
    {
      "cell_type": "code",
      "metadata": {
        "id": "XHZARJdRJLy-",
        "colab": {
          "base_uri": "https://localhost:8080/",
          "height": 198
        },
        "outputId": "9106298a-c61d-4bab-e3bd-1658daec9ce8"
      },
      "source": [
        "sam_iri = data[['point id','R','G','B','x','y']]\n",
        "\n",
        "sam_iri.head()"
      ],
      "execution_count": null,
      "outputs": [
        {
          "output_type": "execute_result",
          "data": {
            "text/html": [
              "<div>\n",
              "<style scoped>\n",
              "    .dataframe tbody tr th:only-of-type {\n",
              "        vertical-align: middle;\n",
              "    }\n",
              "\n",
              "    .dataframe tbody tr th {\n",
              "        vertical-align: top;\n",
              "    }\n",
              "\n",
              "    .dataframe thead th {\n",
              "        text-align: right;\n",
              "    }\n",
              "</style>\n",
              "<table border=\"1\" class=\"dataframe\">\n",
              "  <thead>\n",
              "    <tr style=\"text-align: right;\">\n",
              "      <th></th>\n",
              "      <th>point id</th>\n",
              "      <th>R</th>\n",
              "      <th>G</th>\n",
              "      <th>B</th>\n",
              "      <th>x</th>\n",
              "      <th>y</th>\n",
              "    </tr>\n",
              "  </thead>\n",
              "  <tbody>\n",
              "    <tr>\n",
              "      <th>0</th>\n",
              "      <td>0</td>\n",
              "      <td>255</td>\n",
              "      <td>243</td>\n",
              "      <td>114</td>\n",
              "      <td>53</td>\n",
              "      <td>419</td>\n",
              "    </tr>\n",
              "    <tr>\n",
              "      <th>1</th>\n",
              "      <td>1</td>\n",
              "      <td>241</td>\n",
              "      <td>219</td>\n",
              "      <td>1</td>\n",
              "      <td>95</td>\n",
              "      <td>373</td>\n",
              "    </tr>\n",
              "    <tr>\n",
              "      <th>2</th>\n",
              "      <td>2</td>\n",
              "      <td>244</td>\n",
              "      <td>166</td>\n",
              "      <td>159</td>\n",
              "      <td>139</td>\n",
              "      <td>377</td>\n",
              "    </tr>\n",
              "    <tr>\n",
              "      <th>3</th>\n",
              "      <td>3</td>\n",
              "      <td>235</td>\n",
              "      <td>164</td>\n",
              "      <td>190</td>\n",
              "      <td>143</td>\n",
              "      <td>397</td>\n",
              "    </tr>\n",
              "    <tr>\n",
              "      <th>4</th>\n",
              "      <td>4</td>\n",
              "      <td>178</td>\n",
              "      <td>229</td>\n",
              "      <td>197</td>\n",
              "      <td>187</td>\n",
              "      <td>373</td>\n",
              "    </tr>\n",
              "  </tbody>\n",
              "</table>\n",
              "</div>"
            ],
            "text/plain": [
              "   point id    R    G    B    x    y\n",
              "0         0  255  243  114   53  419\n",
              "1         1  241  219    1   95  373\n",
              "2         2  244  166  159  139  377\n",
              "3         3  235  164  190  143  397\n",
              "4         4  178  229  197  187  373"
            ]
          },
          "metadata": {
            "tags": []
          },
          "execution_count": 13
        }
      ]
    },
    {
      "cell_type": "code",
      "metadata": {
        "id": "zBkNVIOFK_oX",
        "colab": {
          "base_uri": "https://localhost:8080/",
          "height": 269
        },
        "outputId": "3bf3c5e2-9a36-427f-b77b-c0dc2cd2c3a8"
      },
      "source": [
        "# iri scale 좌표\n",
        "\n",
        "plt.scatter(sam_iri.x,sam_iri.y)\n",
        "\n",
        "plt.axis([0,450,0,450])\n",
        "plt.show()"
      ],
      "execution_count": null,
      "outputs": [
        {
          "output_type": "display_data",
          "data": {
            "image/png": "[encoded data removed]",
            "text/plain": [
              "<Figure size 432x288 with 1 Axes>"
            ]
          },
          "metadata": {
            "tags": [],
            "needs_background": "light"
          }
        }
      ]
    },
    {
      "cell_type": "code",
      "metadata": {
        "id": "HSkgfQojFzAC",
        "colab": {
          "base_uri": "https://localhost:8080/",
          "height": 269
        },
        "outputId": "9b408a2d-bd1c-4b75-f9c2-dd9df76d8e46"
      },
      "source": [
        "# 로고 색을 knn으로 iri scale에 할당할 시 좌표\n",
        "\n",
        "\n",
        "plt.scatter(sam_mer.x, sam_mer.y)\n",
        "      \n",
        "plt.axis([0,450,0,450])\n",
        "plt.show()"
      ],
      "execution_count": null,
      "outputs": [
        {
          "output_type": "display_data",
          "data": {
            "image/png": "[encoded data removed]",
            "text/plain": [
              "<Figure size 432x288 with 1 Axes>"
            ]
          },
          "metadata": {
            "tags": [],
            "needs_background": "light"
          }
        }
      ]
    },
    {
      "cell_type": "markdown",
      "metadata": {
        "id": "aOfJPDg9vP02"
      },
      "source": [
        "* 형용사 데이터\n"
      ]
    },
    {
      "cell_type": "code",
      "metadata": {
        "id": "MVTR71CbvLnR",
        "colab": {
          "base_uri": "https://localhost:8080/",
          "height": 198
        },
        "outputId": "ae9c3662-afe1-4aba-9bf8-da912afe36e4"
      },
      "source": [
        "adj = pd.read_csv('/content/drive/My Drive/ADV/형용사/형용사.csv',encoding='cp949',engine = 'python')\n",
        "adj.head()"
      ],
      "execution_count": null,
      "outputs": [
        {
          "output_type": "execute_result",
          "data": {
            "text/html": [
              "<div>\n",
              "<style scoped>\n",
              "    .dataframe tbody tr th:only-of-type {\n",
              "        vertical-align: middle;\n",
              "    }\n",
              "\n",
              "    .dataframe tbody tr th {\n",
              "        vertical-align: top;\n",
              "    }\n",
              "\n",
              "    .dataframe thead th {\n",
              "        text-align: right;\n",
              "    }\n",
              "</style>\n",
              "<table border=\"1\" class=\"dataframe\">\n",
              "  <thead>\n",
              "    <tr style=\"text-align: right;\">\n",
              "      <th></th>\n",
              "      <th>형용사</th>\n",
              "      <th>point id</th>\n",
              "      <th>x</th>\n",
              "      <th>y</th>\n",
              "      <th>X</th>\n",
              "      <th>Y</th>\n",
              "      <th>Unnamed: 6</th>\n",
              "      <th>Unnamed: 7</th>\n",
              "      <th>Unnamed: 8</th>\n",
              "      <th>Unnamed: 9</th>\n",
              "      <th>0</th>\n",
              "      <th>0.1</th>\n",
              "      <th>286</th>\n",
              "      <th>264</th>\n",
              "    </tr>\n",
              "  </thead>\n",
              "  <tbody>\n",
              "    <tr>\n",
              "      <th>0</th>\n",
              "      <td>즐거운</td>\n",
              "      <td>1</td>\n",
              "      <td>113</td>\n",
              "      <td>436</td>\n",
              "      <td>-173</td>\n",
              "      <td>172</td>\n",
              "      <td>NaN</td>\n",
              "      <td>NaN</td>\n",
              "      <td>NaN</td>\n",
              "      <td>NaN</td>\n",
              "      <td>NaN</td>\n",
              "      <td>NaN</td>\n",
              "      <td>NaN</td>\n",
              "      <td>NaN</td>\n",
              "    </tr>\n",
              "    <tr>\n",
              "      <th>1</th>\n",
              "      <td>아기자기한</td>\n",
              "      <td>2</td>\n",
              "      <td>157</td>\n",
              "      <td>449</td>\n",
              "      <td>-129</td>\n",
              "      <td>185</td>\n",
              "      <td>NaN</td>\n",
              "      <td>NaN</td>\n",
              "      <td>NaN</td>\n",
              "      <td>NaN</td>\n",
              "      <td>NaN</td>\n",
              "      <td>NaN</td>\n",
              "      <td>NaN</td>\n",
              "      <td>NaN</td>\n",
              "    </tr>\n",
              "    <tr>\n",
              "      <th>2</th>\n",
              "      <td>싱싱한</td>\n",
              "      <td>3</td>\n",
              "      <td>180</td>\n",
              "      <td>435</td>\n",
              "      <td>-106</td>\n",
              "      <td>171</td>\n",
              "      <td>NaN</td>\n",
              "      <td>NaN</td>\n",
              "      <td>NaN</td>\n",
              "      <td>NaN</td>\n",
              "      <td>NaN</td>\n",
              "      <td>NaN</td>\n",
              "      <td>NaN</td>\n",
              "      <td>NaN</td>\n",
              "    </tr>\n",
              "    <tr>\n",
              "      <th>3</th>\n",
              "      <td>신선한</td>\n",
              "      <td>4</td>\n",
              "      <td>201</td>\n",
              "      <td>423</td>\n",
              "      <td>-85</td>\n",
              "      <td>159</td>\n",
              "      <td>NaN</td>\n",
              "      <td>NaN</td>\n",
              "      <td>NaN</td>\n",
              "      <td>NaN</td>\n",
              "      <td>NaN</td>\n",
              "      <td>NaN</td>\n",
              "      <td>NaN</td>\n",
              "      <td>NaN</td>\n",
              "    </tr>\n",
              "    <tr>\n",
              "      <th>4</th>\n",
              "      <td>밝은</td>\n",
              "      <td>5</td>\n",
              "      <td>201</td>\n",
              "      <td>445</td>\n",
              "      <td>-85</td>\n",
              "      <td>181</td>\n",
              "      <td>NaN</td>\n",
              "      <td>NaN</td>\n",
              "      <td>NaN</td>\n",
              "      <td>NaN</td>\n",
              "      <td>NaN</td>\n",
              "      <td>NaN</td>\n",
              "      <td>NaN</td>\n",
              "      <td>NaN</td>\n",
              "    </tr>\n",
              "  </tbody>\n",
              "</table>\n",
              "</div>"
            ],
            "text/plain": [
              "     형용사  point id    x    y    X  ...  Unnamed: 9   0  0.1  286  264\n",
              "0    즐거운         1  113  436 -173  ...         NaN NaN  NaN  NaN  NaN\n",
              "1  아기자기한         2  157  449 -129  ...         NaN NaN  NaN  NaN  NaN\n",
              "2    싱싱한         3  180  435 -106  ...         NaN NaN  NaN  NaN  NaN\n",
              "3    신선한         4  201  423  -85  ...         NaN NaN  NaN  NaN  NaN\n",
              "4     밝은         5  201  445  -85  ...         NaN NaN  NaN  NaN  NaN\n",
              "\n",
              "[5 rows x 14 columns]"
            ]
          },
          "metadata": {
            "tags": []
          },
          "execution_count": 19
        }
      ]
    },
    {
      "cell_type": "code",
      "metadata": {
        "id": "aOisxs04IWv5",
        "colab": {
          "base_uri": "https://localhost:8080/",
          "height": 416
        },
        "outputId": "a3861cf4-6a6f-4817-87d0-05b3d8c45eb1"
      },
      "source": [
        "sam_adj = adj[['형용사','point id','x','y']]\n",
        "sam_adj.x = sam_adj.x.apply(lambda x: x-50)\n",
        "sam_adj.y = sam_adj.y.apply(lambda y: y-50)\n",
        "sam_adj['point id'] = sam_adj.index\n",
        "sam_adj.head()"
      ],
      "execution_count": null,
      "outputs": [
        {
          "output_type": "stream",
          "text": [
            "/usr/local/lib/python3.6/dist-packages/pandas/core/generic.py:5303: SettingWithCopyWarning: \n",
            "A value is trying to be set on a copy of a slice from a DataFrame.\n",
            "Try using .loc[row_indexer,col_indexer] = value instead\n",
            "\n",
            "See the caveats in the documentation: https://pandas.pydata.org/pandas-docs/stable/user_guide/indexing.html#returning-a-view-versus-a-copy\n",
            "  self[name] = value\n",
            "/usr/local/lib/python3.6/dist-packages/ipykernel_launcher.py:4: SettingWithCopyWarning: \n",
            "A value is trying to be set on a copy of a slice from a DataFrame.\n",
            "Try using .loc[row_indexer,col_indexer] = value instead\n",
            "\n",
            "See the caveats in the documentation: https://pandas.pydata.org/pandas-docs/stable/user_guide/indexing.html#returning-a-view-versus-a-copy\n",
            "  after removing the cwd from sys.path.\n"
          ],
          "name": "stderr"
        },
        {
          "output_type": "execute_result",
          "data": {
            "text/html": [
              "<div>\n",
              "<style scoped>\n",
              "    .dataframe tbody tr th:only-of-type {\n",
              "        vertical-align: middle;\n",
              "    }\n",
              "\n",
              "    .dataframe tbody tr th {\n",
              "        vertical-align: top;\n",
              "    }\n",
              "\n",
              "    .dataframe thead th {\n",
              "        text-align: right;\n",
              "    }\n",
              "</style>\n",
              "<table border=\"1\" class=\"dataframe\">\n",
              "  <thead>\n",
              "    <tr style=\"text-align: right;\">\n",
              "      <th></th>\n",
              "      <th>형용사</th>\n",
              "      <th>point id</th>\n",
              "      <th>x</th>\n",
              "      <th>y</th>\n",
              "    </tr>\n",
              "  </thead>\n",
              "  <tbody>\n",
              "    <tr>\n",
              "      <th>0</th>\n",
              "      <td>즐거운</td>\n",
              "      <td>0</td>\n",
              "      <td>63</td>\n",
              "      <td>386</td>\n",
              "    </tr>\n",
              "    <tr>\n",
              "      <th>1</th>\n",
              "      <td>아기자기한</td>\n",
              "      <td>1</td>\n",
              "      <td>107</td>\n",
              "      <td>399</td>\n",
              "    </tr>\n",
              "    <tr>\n",
              "      <th>2</th>\n",
              "      <td>싱싱한</td>\n",
              "      <td>2</td>\n",
              "      <td>130</td>\n",
              "      <td>385</td>\n",
              "    </tr>\n",
              "    <tr>\n",
              "      <th>3</th>\n",
              "      <td>신선한</td>\n",
              "      <td>3</td>\n",
              "      <td>151</td>\n",
              "      <td>373</td>\n",
              "    </tr>\n",
              "    <tr>\n",
              "      <th>4</th>\n",
              "      <td>밝은</td>\n",
              "      <td>4</td>\n",
              "      <td>151</td>\n",
              "      <td>395</td>\n",
              "    </tr>\n",
              "  </tbody>\n",
              "</table>\n",
              "</div>"
            ],
            "text/plain": [
              "     형용사  point id    x    y\n",
              "0    즐거운         0   63  386\n",
              "1  아기자기한         1  107  399\n",
              "2    싱싱한         2  130  385\n",
              "3    신선한         3  151  373\n",
              "4     밝은         4  151  395"
            ]
          },
          "metadata": {
            "tags": []
          },
          "execution_count": 41
        }
      ]
    },
    {
      "cell_type": "code",
      "metadata": {
        "id": "SEtxRtWVxFn9",
        "colab": {
          "base_uri": "https://localhost:8080/",
          "height": 54
        },
        "outputId": "b09ce603-302c-4803-df98-be8a84251397"
      },
      "source": [
        "#폰트설정\n",
        "import matplotlib as mpl\n",
        "import matplotlib.pyplot as plt\n",
        " \n",
        "%config InlineBackend.figure_format = 'retina'\n",
        " \n",
        "!apt -qq -y install fonts-nanum\n",
        " \n",
        "import matplotlib.font_manager as fm\n",
        "fontpath = '/usr/share/fonts/truetype/nanum/NanumBarunGothic.ttf'\n",
        "font = fm.FontProperties(fname=fontpath, size=9)\n",
        "plt.rc('font', family='NanumBarunGothic') \n",
        "mpl.font_manager._rebuild()"
      ],
      "execution_count": null,
      "outputs": [
        {
          "output_type": "stream",
          "text": [
            "fonts-nanum is already the newest version (20170925-1).\n",
            "0 upgraded, 0 newly installed, 0 to remove and 25 not upgraded.\n"
          ],
          "name": "stdout"
        }
      ]
    },
    {
      "cell_type": "code",
      "metadata": {
        "id": "ed3fsAXxvcv5",
        "colab": {
          "base_uri": "https://localhost:8080/",
          "height": 270
        },
        "outputId": "0dbc27b1-6d65-42f8-f007-732fd22e192a"
      },
      "source": [
        "for i in range(len(sam_adj)):\n",
        "  plt.scatter(sam_adj.x[i],sam_adj.y[i],alpha=0)\n",
        "  plt.text(sam_adj.x[i],sam_adj.y[i],sam_adj.loc[i,'형용사'], horizontalalignment='center')\n",
        "\n",
        "plt.axis([0,450,0,450])\n",
        "plt.show()"
      ],
      "execution_count": null,
      "outputs": [
        {
          "output_type": "display_data",
          "data": {
            "image/png": "[encoded data removed]",
            "text/plain": [
              "<Figure size 432x288 with 1 Axes>"
            ]
          },
          "metadata": {
            "tags": [],
            "image/png": {
              "width": 382,
              "height": 253
            },
            "needs_background": "light"
          }
        }
      ]
    },
    {
      "cell_type": "markdown",
      "metadata": {
        "id": "HD0ToT1MJCgZ"
      },
      "source": [
        "# color & 형용사 매핑"
      ]
    },
    {
      "cell_type": "markdown",
      "metadata": {
        "id": "MXk_1YTiJIjR"
      },
      "source": [
        "1. 형용사별 가장 가까운 색상"
      ]
    },
    {
      "cell_type": "code",
      "metadata": {
        "id": "qr_rMeTD233H"
      },
      "source": [
        "from scipy.spatial import distance"
      ],
      "execution_count": null,
      "outputs": []
    },
    {
      "cell_type": "code",
      "metadata": {
        "id": "ZTxlQc0qJQAN",
        "colab": {
          "base_uri": "https://localhost:8080/",
          "height": 108
        },
        "outputId": "70eec7e8-d750-4330-b77d-149615ce267e"
      },
      "source": [
        "sam_adj.head(n=2)"
      ],
      "execution_count": null,
      "outputs": [
        {
          "output_type": "execute_result",
          "data": {
            "text/html": [
              "<div>\n",
              "<style scoped>\n",
              "    .dataframe tbody tr th:only-of-type {\n",
              "        vertical-align: middle;\n",
              "    }\n",
              "\n",
              "    .dataframe tbody tr th {\n",
              "        vertical-align: top;\n",
              "    }\n",
              "\n",
              "    .dataframe thead th {\n",
              "        text-align: right;\n",
              "    }\n",
              "</style>\n",
              "<table border=\"1\" class=\"dataframe\">\n",
              "  <thead>\n",
              "    <tr style=\"text-align: right;\">\n",
              "      <th></th>\n",
              "      <th>형용사</th>\n",
              "      <th>point id</th>\n",
              "      <th>x</th>\n",
              "      <th>y</th>\n",
              "    </tr>\n",
              "  </thead>\n",
              "  <tbody>\n",
              "    <tr>\n",
              "      <th>0</th>\n",
              "      <td>즐거운</td>\n",
              "      <td>0</td>\n",
              "      <td>63</td>\n",
              "      <td>386</td>\n",
              "    </tr>\n",
              "    <tr>\n",
              "      <th>1</th>\n",
              "      <td>아기자기한</td>\n",
              "      <td>1</td>\n",
              "      <td>107</td>\n",
              "      <td>399</td>\n",
              "    </tr>\n",
              "  </tbody>\n",
              "</table>\n",
              "</div>"
            ],
            "text/plain": [
              "     형용사  point id    x    y\n",
              "0    즐거운         0   63  386\n",
              "1  아기자기한         1  107  399"
            ]
          },
          "metadata": {
            "tags": []
          },
          "execution_count": 42
        }
      ]
    },
    {
      "cell_type": "code",
      "metadata": {
        "id": "yScDoAMdJaA-",
        "colab": {
          "base_uri": "https://localhost:8080/",
          "height": 108
        },
        "outputId": "44249dff-b9d8-4bbf-d1b2-d9db55ccbea1"
      },
      "source": [
        "sam_data.head(n=2)"
      ],
      "execution_count": null,
      "outputs": [
        {
          "output_type": "execute_result",
          "data": {
            "text/html": [
              "<div>\n",
              "<style scoped>\n",
              "    .dataframe tbody tr th:only-of-type {\n",
              "        vertical-align: middle;\n",
              "    }\n",
              "\n",
              "    .dataframe tbody tr th {\n",
              "        vertical-align: top;\n",
              "    }\n",
              "\n",
              "    .dataframe thead th {\n",
              "        text-align: right;\n",
              "    }\n",
              "</style>\n",
              "<table border=\"1\" class=\"dataframe\">\n",
              "  <thead>\n",
              "    <tr style=\"text-align: right;\">\n",
              "      <th></th>\n",
              "      <th>point id</th>\n",
              "      <th>R</th>\n",
              "      <th>G</th>\n",
              "      <th>B</th>\n",
              "      <th>x</th>\n",
              "      <th>y</th>\n",
              "    </tr>\n",
              "  </thead>\n",
              "  <tbody>\n",
              "    <tr>\n",
              "      <th>0</th>\n",
              "      <td>0</td>\n",
              "      <td>255</td>\n",
              "      <td>243</td>\n",
              "      <td>114</td>\n",
              "      <td>53</td>\n",
              "      <td>419</td>\n",
              "    </tr>\n",
              "    <tr>\n",
              "      <th>1</th>\n",
              "      <td>1</td>\n",
              "      <td>241</td>\n",
              "      <td>219</td>\n",
              "      <td>1</td>\n",
              "      <td>95</td>\n",
              "      <td>373</td>\n",
              "    </tr>\n",
              "  </tbody>\n",
              "</table>\n",
              "</div>"
            ],
            "text/plain": [
              "   point id    R    G    B   x    y\n",
              "0         0  255  243  114  53  419\n",
              "1         1  241  219    1  95  373"
            ]
          },
          "metadata": {
            "tags": []
          },
          "execution_count": 33
        }
      ]
    },
    {
      "cell_type": "code",
      "metadata": {
        "id": "ElazZN1L2TAG"
      },
      "source": [
        "res = []\n",
        "for i in range(len(sam_adj)):\n",
        "  a_xy = sam_adj.loc[i,['x','y']]            # 형용사 하나의 x,y와\n",
        "  uds = []\n",
        "  for j in range(len(sam_data)):\n",
        "    c_xy = sam_data.loc[j,['x','y']]         \n",
        "    uds.append(distance.euclidean(c_xy, a_xy))          # 모든 iri 색상의 x,y의 유클리디안 거리를 계산\n",
        "  res.append(uds.index(min(uds)))                       # 각 형용사별 가장 거리가 가까운 형용사의 인덱스를 저장"
      ],
      "execution_count": null,
      "outputs": []
    },
    {
      "cell_type": "code",
      "metadata": {
        "id": "qkhEICpoJ8p6",
        "colab": {
          "base_uri": "https://localhost:8080/",
          "height": 35
        },
        "outputId": "fc943a9e-73f6-4713-956a-6b296123b91a"
      },
      "source": [
        "len(sam_adj)"
      ],
      "execution_count": null,
      "outputs": [
        {
          "output_type": "execute_result",
          "data": {
            "text/plain": [
              "106"
            ]
          },
          "metadata": {
            "tags": []
          },
          "execution_count": 37
        }
      ]
    },
    {
      "cell_type": "code",
      "metadata": {
        "id": "bhrm2YkfJ6tT",
        "colab": {
          "base_uri": "https://localhost:8080/",
          "height": 35
        },
        "outputId": "be7fdf21-8e98-4f39-a697-1a16e196ef46"
      },
      "source": [
        "len(res)               # 결과는 각 형용사 개수만큼"
      ],
      "execution_count": null,
      "outputs": [
        {
          "output_type": "execute_result",
          "data": {
            "text/plain": [
              "106"
            ]
          },
          "metadata": {
            "tags": []
          },
          "execution_count": 36
        }
      ]
    },
    {
      "cell_type": "code",
      "metadata": {
        "id": "msDl2pbMGha3",
        "colab": {
          "base_uri": "https://localhost:8080/",
          "height": 198
        },
        "outputId": "fabafcce-5e24-46a3-a122-b7a6433f1762"
      },
      "source": [
        "sam_adj.head(n=5)"
      ],
      "execution_count": null,
      "outputs": [
        {
          "output_type": "execute_result",
          "data": {
            "text/html": [
              "<div>\n",
              "<style scoped>\n",
              "    .dataframe tbody tr th:only-of-type {\n",
              "        vertical-align: middle;\n",
              "    }\n",
              "\n",
              "    .dataframe tbody tr th {\n",
              "        vertical-align: top;\n",
              "    }\n",
              "\n",
              "    .dataframe thead th {\n",
              "        text-align: right;\n",
              "    }\n",
              "</style>\n",
              "<table border=\"1\" class=\"dataframe\">\n",
              "  <thead>\n",
              "    <tr style=\"text-align: right;\">\n",
              "      <th></th>\n",
              "      <th>형용사</th>\n",
              "      <th>point id</th>\n",
              "      <th>x</th>\n",
              "      <th>y</th>\n",
              "    </tr>\n",
              "  </thead>\n",
              "  <tbody>\n",
              "    <tr>\n",
              "      <th>0</th>\n",
              "      <td>즐거운</td>\n",
              "      <td>0</td>\n",
              "      <td>63</td>\n",
              "      <td>386</td>\n",
              "    </tr>\n",
              "    <tr>\n",
              "      <th>1</th>\n",
              "      <td>아기자기한</td>\n",
              "      <td>1</td>\n",
              "      <td>107</td>\n",
              "      <td>399</td>\n",
              "    </tr>\n",
              "    <tr>\n",
              "      <th>2</th>\n",
              "      <td>싱싱한</td>\n",
              "      <td>2</td>\n",
              "      <td>130</td>\n",
              "      <td>385</td>\n",
              "    </tr>\n",
              "    <tr>\n",
              "      <th>3</th>\n",
              "      <td>신선한</td>\n",
              "      <td>3</td>\n",
              "      <td>151</td>\n",
              "      <td>373</td>\n",
              "    </tr>\n",
              "    <tr>\n",
              "      <th>4</th>\n",
              "      <td>밝은</td>\n",
              "      <td>4</td>\n",
              "      <td>151</td>\n",
              "      <td>395</td>\n",
              "    </tr>\n",
              "  </tbody>\n",
              "</table>\n",
              "</div>"
            ],
            "text/plain": [
              "     형용사  point id    x    y\n",
              "0    즐거운         0   63  386\n",
              "1  아기자기한         1  107  399\n",
              "2    싱싱한         2  130  385\n",
              "3    신선한         3  151  373\n",
              "4     밝은         4  151  395"
            ]
          },
          "metadata": {
            "tags": []
          },
          "execution_count": 48
        }
      ]
    },
    {
      "cell_type": "code",
      "metadata": {
        "id": "BqSffiMyGW3u",
        "colab": {
          "base_uri": "https://localhost:8080/",
          "height": 35
        },
        "outputId": "1e5c6c71-5f97-489b-fb87-06c467c37ae0"
      },
      "source": [
        "res[0:5]             # 형용사 1번~5번 예시) 각 형용사와 가장 거리가 가까운 iri 색깔의 인덱스 번호"
      ],
      "execution_count": null,
      "outputs": [
        {
          "output_type": "execute_result",
          "data": {
            "text/plain": [
              "[0, 1, 2, 2, 3]"
            ]
          },
          "metadata": {
            "tags": []
          },
          "execution_count": 47
        }
      ]
    },
    {
      "cell_type": "code",
      "metadata": {
        "id": "CzY6lBsdLF2R",
        "colab": {
          "base_uri": "https://localhost:8080/",
          "height": 307
        },
        "outputId": "a603c657-da47-4b7a-ebea-de19d28b11ff"
      },
      "source": [
        "sam_adj['색상 할당'] = res\n",
        "sam_adj.head()"
      ],
      "execution_count": null,
      "outputs": [
        {
          "output_type": "stream",
          "text": [
            "/usr/local/lib/python3.6/dist-packages/ipykernel_launcher.py:1: SettingWithCopyWarning: \n",
            "A value is trying to be set on a copy of a slice from a DataFrame.\n",
            "Try using .loc[row_indexer,col_indexer] = value instead\n",
            "\n",
            "See the caveats in the documentation: https://pandas.pydata.org/pandas-docs/stable/user_guide/indexing.html#returning-a-view-versus-a-copy\n",
            "  \"\"\"Entry point for launching an IPython kernel.\n"
          ],
          "name": "stderr"
        },
        {
          "output_type": "execute_result",
          "data": {
            "text/html": [
              "<div>\n",
              "<style scoped>\n",
              "    .dataframe tbody tr th:only-of-type {\n",
              "        vertical-align: middle;\n",
              "    }\n",
              "\n",
              "    .dataframe tbody tr th {\n",
              "        vertical-align: top;\n",
              "    }\n",
              "\n",
              "    .dataframe thead th {\n",
              "        text-align: right;\n",
              "    }\n",
              "</style>\n",
              "<table border=\"1\" class=\"dataframe\">\n",
              "  <thead>\n",
              "    <tr style=\"text-align: right;\">\n",
              "      <th></th>\n",
              "      <th>형용사</th>\n",
              "      <th>point id</th>\n",
              "      <th>x</th>\n",
              "      <th>y</th>\n",
              "      <th>색상 할당</th>\n",
              "    </tr>\n",
              "  </thead>\n",
              "  <tbody>\n",
              "    <tr>\n",
              "      <th>0</th>\n",
              "      <td>즐거운</td>\n",
              "      <td>0</td>\n",
              "      <td>63</td>\n",
              "      <td>386</td>\n",
              "      <td>0</td>\n",
              "    </tr>\n",
              "    <tr>\n",
              "      <th>1</th>\n",
              "      <td>아기자기한</td>\n",
              "      <td>1</td>\n",
              "      <td>107</td>\n",
              "      <td>399</td>\n",
              "      <td>1</td>\n",
              "    </tr>\n",
              "    <tr>\n",
              "      <th>2</th>\n",
              "      <td>싱싱한</td>\n",
              "      <td>2</td>\n",
              "      <td>130</td>\n",
              "      <td>385</td>\n",
              "      <td>2</td>\n",
              "    </tr>\n",
              "    <tr>\n",
              "      <th>3</th>\n",
              "      <td>신선한</td>\n",
              "      <td>3</td>\n",
              "      <td>151</td>\n",
              "      <td>373</td>\n",
              "      <td>2</td>\n",
              "    </tr>\n",
              "    <tr>\n",
              "      <th>4</th>\n",
              "      <td>밝은</td>\n",
              "      <td>4</td>\n",
              "      <td>151</td>\n",
              "      <td>395</td>\n",
              "      <td>3</td>\n",
              "    </tr>\n",
              "  </tbody>\n",
              "</table>\n",
              "</div>"
            ],
            "text/plain": [
              "     형용사  point id    x    y  색상 할당\n",
              "0    즐거운         0   63  386      0\n",
              "1  아기자기한         1  107  399      1\n",
              "2    싱싱한         2  130  385      2\n",
              "3    신선한         3  151  373      2\n",
              "4     밝은         4  151  395      3"
            ]
          },
          "metadata": {
            "tags": []
          },
          "execution_count": 54
        }
      ]
    },
    {
      "cell_type": "markdown",
      "metadata": {
        "id": "kLtRvZ7vLbCT"
      },
      "source": [
        "기업 데이터와 iri 색상 데이터와 형용사 데이터를 모두 merge"
      ]
    },
    {
      "cell_type": "code",
      "metadata": {
        "id": "rN0yHeVRLh3J",
        "colab": {
          "base_uri": "https://localhost:8080/",
          "height": 108
        },
        "outputId": "d64928e6-e10e-4339-e5d4-8585c643a97c"
      },
      "source": [
        "sam_mer.head(n=2)"
      ],
      "execution_count": null,
      "outputs": [
        {
          "output_type": "execute_result",
          "data": {
            "text/html": [
              "<div>\n",
              "<style scoped>\n",
              "    .dataframe tbody tr th:only-of-type {\n",
              "        vertical-align: middle;\n",
              "    }\n",
              "\n",
              "    .dataframe tbody tr th {\n",
              "        vertical-align: top;\n",
              "    }\n",
              "\n",
              "    .dataframe thead th {\n",
              "        text-align: right;\n",
              "    }\n",
              "</style>\n",
              "<table border=\"1\" class=\"dataframe\">\n",
              "  <thead>\n",
              "    <tr style=\"text-align: right;\">\n",
              "      <th></th>\n",
              "      <th>names</th>\n",
              "      <th>R_y</th>\n",
              "      <th>G_y</th>\n",
              "      <th>B_y</th>\n",
              "      <th>x</th>\n",
              "      <th>y</th>\n",
              "      <th>knn predict</th>\n",
              "    </tr>\n",
              "  </thead>\n",
              "  <tbody>\n",
              "    <tr>\n",
              "      <th>0</th>\n",
              "      <td>Novartis</td>\n",
              "      <td>255</td>\n",
              "      <td>214</td>\n",
              "      <td>76</td>\n",
              "      <td>53</td>\n",
              "      <td>419</td>\n",
              "      <td>0</td>\n",
              "    </tr>\n",
              "    <tr>\n",
              "      <th>1</th>\n",
              "      <td>DHL</td>\n",
              "      <td>255</td>\n",
              "      <td>204</td>\n",
              "      <td>0</td>\n",
              "      <td>95</td>\n",
              "      <td>373</td>\n",
              "      <td>1</td>\n",
              "    </tr>\n",
              "  </tbody>\n",
              "</table>\n",
              "</div>"
            ],
            "text/plain": [
              "      names  R_y  G_y  B_y   x    y  knn predict\n",
              "0  Novartis  255  214   76  53  419            0\n",
              "1       DHL  255  204    0  95  373            1"
            ]
          },
          "metadata": {
            "tags": []
          },
          "execution_count": 55
        }
      ]
    },
    {
      "cell_type": "code",
      "metadata": {
        "id": "XoWYsFDTEluW",
        "colab": {
          "base_uri": "https://localhost:8080/",
          "height": 407
        },
        "outputId": "5a71e759-ea43-48a4-d78e-525c5a4da269"
      },
      "source": [
        "pd.merge(sam_mer,sam_adj,how='left',left_on='knn predict',right_on='색상 할당')[['names','R','G','B','knn predict','형용사']]"
      ],
      "execution_count": null,
      "outputs": [
        {
          "output_type": "execute_result",
          "data": {
            "text/html": [
              "<div>\n",
              "<style scoped>\n",
              "    .dataframe tbody tr th:only-of-type {\n",
              "        vertical-align: middle;\n",
              "    }\n",
              "\n",
              "    .dataframe tbody tr th {\n",
              "        vertical-align: top;\n",
              "    }\n",
              "\n",
              "    .dataframe thead th {\n",
              "        text-align: right;\n",
              "    }\n",
              "</style>\n",
              "<table border=\"1\" class=\"dataframe\">\n",
              "  <thead>\n",
              "    <tr style=\"text-align: right;\">\n",
              "      <th></th>\n",
              "      <th>names</th>\n",
              "      <th>R</th>\n",
              "      <th>G</th>\n",
              "      <th>B</th>\n",
              "      <th>knn predict</th>\n",
              "      <th>형용사</th>\n",
              "    </tr>\n",
              "  </thead>\n",
              "  <tbody>\n",
              "    <tr>\n",
              "      <th>0</th>\n",
              "      <td>Novartis</td>\n",
              "      <td>255</td>\n",
              "      <td>214</td>\n",
              "      <td>76</td>\n",
              "      <td>0</td>\n",
              "      <td>즐거운</td>\n",
              "    </tr>\n",
              "    <tr>\n",
              "      <th>1</th>\n",
              "      <td>DHL</td>\n",
              "      <td>255</td>\n",
              "      <td>204</td>\n",
              "      <td>0</td>\n",
              "      <td>1</td>\n",
              "      <td>아기자기한</td>\n",
              "    </tr>\n",
              "    <tr>\n",
              "      <th>2</th>\n",
              "      <td>IKEA</td>\n",
              "      <td>255</td>\n",
              "      <td>214</td>\n",
              "      <td>0</td>\n",
              "      <td>1</td>\n",
              "      <td>아기자기한</td>\n",
              "    </tr>\n",
              "    <tr>\n",
              "      <th>3</th>\n",
              "      <td>Kakao</td>\n",
              "      <td>254</td>\n",
              "      <td>205</td>\n",
              "      <td>0</td>\n",
              "      <td>1</td>\n",
              "      <td>아기자기한</td>\n",
              "    </tr>\n",
              "    <tr>\n",
              "      <th>4</th>\n",
              "      <td>McDonald's</td>\n",
              "      <td>252</td>\n",
              "      <td>210</td>\n",
              "      <td>0</td>\n",
              "      <td>1</td>\n",
              "      <td>아기자기한</td>\n",
              "    </tr>\n",
              "    <tr>\n",
              "      <th>...</th>\n",
              "      <td>...</td>\n",
              "      <td>...</td>\n",
              "      <td>...</td>\n",
              "      <td>...</td>\n",
              "      <td>...</td>\n",
              "      <td>...</td>\n",
              "    </tr>\n",
              "    <tr>\n",
              "      <th>315</th>\n",
              "      <td>Hotel Shilla</td>\n",
              "      <td>73</td>\n",
              "      <td>67</td>\n",
              "      <td>59</td>\n",
              "      <td>118</td>\n",
              "      <td>무거운</td>\n",
              "    </tr>\n",
              "    <tr>\n",
              "      <th>316</th>\n",
              "      <td>Hotel Shilla</td>\n",
              "      <td>73</td>\n",
              "      <td>67</td>\n",
              "      <td>59</td>\n",
              "      <td>118</td>\n",
              "      <td>어두운</td>\n",
              "    </tr>\n",
              "    <tr>\n",
              "      <th>317</th>\n",
              "      <td>Netmarble Games</td>\n",
              "      <td>92</td>\n",
              "      <td>55</td>\n",
              "      <td>35</td>\n",
              "      <td>118</td>\n",
              "      <td>깊은</td>\n",
              "    </tr>\n",
              "    <tr>\n",
              "      <th>318</th>\n",
              "      <td>Netmarble Games</td>\n",
              "      <td>92</td>\n",
              "      <td>55</td>\n",
              "      <td>35</td>\n",
              "      <td>118</td>\n",
              "      <td>무거운</td>\n",
              "    </tr>\n",
              "    <tr>\n",
              "      <th>319</th>\n",
              "      <td>Netmarble Games</td>\n",
              "      <td>92</td>\n",
              "      <td>55</td>\n",
              "      <td>35</td>\n",
              "      <td>118</td>\n",
              "      <td>어두운</td>\n",
              "    </tr>\n",
              "  </tbody>\n",
              "</table>\n",
              "<p>320 rows × 6 columns</p>\n",
              "</div>"
            ],
            "text/plain": [
              "               names    R    G   B  knn predict    형용사\n",
              "0           Novartis  255  214  76            0    즐거운\n",
              "1                DHL  255  204   0            1  아기자기한\n",
              "2               IKEA  255  214   0            1  아기자기한\n",
              "3              Kakao  254  205   0            1  아기자기한\n",
              "4         McDonald's  252  210   0            1  아기자기한\n",
              "..               ...  ...  ...  ..          ...    ...\n",
              "315     Hotel Shilla   73   67  59          118    무거운\n",
              "316     Hotel Shilla   73   67  59          118    어두운\n",
              "317  Netmarble Games   92   55  35          118     깊은\n",
              "318  Netmarble Games   92   55  35          118    무거운\n",
              "319  Netmarble Games   92   55  35          118    어두운\n",
              "\n",
              "[320 rows x 6 columns]"
            ]
          },
          "metadata": {
            "tags": []
          },
          "execution_count": 62
        }
      ]
    },
    {
      "cell_type": "code",
      "metadata": {
        "id": "kpO1IgAzLzCT",
        "colab": {
          "base_uri": "https://localhost:8080/",
          "height": 407
        },
        "outputId": "4f88f581-c8dd-447a-def5-a1e5d683a55e"
      },
      "source": [
        "pd.merge(sam_adj,sam_mer,how='left',left_on='색상 할당',right_on='knn predict')[['형용사','색상 할당','names','R','G','B','point id']]"
      ],
      "execution_count": null,
      "outputs": [
        {
          "output_type": "execute_result",
          "data": {
            "text/html": [
              "<div>\n",
              "<style scoped>\n",
              "    .dataframe tbody tr th:only-of-type {\n",
              "        vertical-align: middle;\n",
              "    }\n",
              "\n",
              "    .dataframe tbody tr th {\n",
              "        vertical-align: top;\n",
              "    }\n",
              "\n",
              "    .dataframe thead th {\n",
              "        text-align: right;\n",
              "    }\n",
              "</style>\n",
              "<table border=\"1\" class=\"dataframe\">\n",
              "  <thead>\n",
              "    <tr style=\"text-align: right;\">\n",
              "      <th></th>\n",
              "      <th>형용사</th>\n",
              "      <th>색상 할당</th>\n",
              "      <th>names</th>\n",
              "      <th>R</th>\n",
              "      <th>G</th>\n",
              "      <th>B</th>\n",
              "      <th>point id</th>\n",
              "    </tr>\n",
              "  </thead>\n",
              "  <tbody>\n",
              "    <tr>\n",
              "      <th>0</th>\n",
              "      <td>즐거운</td>\n",
              "      <td>0</td>\n",
              "      <td>Novartis</td>\n",
              "      <td>255.0</td>\n",
              "      <td>214.0</td>\n",
              "      <td>76.0</td>\n",
              "      <td>0</td>\n",
              "    </tr>\n",
              "    <tr>\n",
              "      <th>1</th>\n",
              "      <td>아기자기한</td>\n",
              "      <td>1</td>\n",
              "      <td>DHL</td>\n",
              "      <td>255.0</td>\n",
              "      <td>204.0</td>\n",
              "      <td>0.0</td>\n",
              "      <td>1</td>\n",
              "    </tr>\n",
              "    <tr>\n",
              "      <th>2</th>\n",
              "      <td>아기자기한</td>\n",
              "      <td>1</td>\n",
              "      <td>IKEA</td>\n",
              "      <td>255.0</td>\n",
              "      <td>214.0</td>\n",
              "      <td>0.0</td>\n",
              "      <td>1</td>\n",
              "    </tr>\n",
              "    <tr>\n",
              "      <th>3</th>\n",
              "      <td>아기자기한</td>\n",
              "      <td>1</td>\n",
              "      <td>Kakao</td>\n",
              "      <td>254.0</td>\n",
              "      <td>205.0</td>\n",
              "      <td>0.0</td>\n",
              "      <td>1</td>\n",
              "    </tr>\n",
              "    <tr>\n",
              "      <th>4</th>\n",
              "      <td>아기자기한</td>\n",
              "      <td>1</td>\n",
              "      <td>McDonald's</td>\n",
              "      <td>252.0</td>\n",
              "      <td>210.0</td>\n",
              "      <td>0.0</td>\n",
              "      <td>1</td>\n",
              "    </tr>\n",
              "    <tr>\n",
              "      <th>...</th>\n",
              "      <td>...</td>\n",
              "      <td>...</td>\n",
              "      <td>...</td>\n",
              "      <td>...</td>\n",
              "      <td>...</td>\n",
              "      <td>...</td>\n",
              "      <td>...</td>\n",
              "    </tr>\n",
              "    <tr>\n",
              "      <th>290</th>\n",
              "      <td>무거운</td>\n",
              "      <td>118</td>\n",
              "      <td>Netmarble Games</td>\n",
              "      <td>92.0</td>\n",
              "      <td>55.0</td>\n",
              "      <td>35.0</td>\n",
              "      <td>102</td>\n",
              "    </tr>\n",
              "    <tr>\n",
              "      <th>291</th>\n",
              "      <td>견고한</td>\n",
              "      <td>110</td>\n",
              "      <td>NaN</td>\n",
              "      <td>NaN</td>\n",
              "      <td>NaN</td>\n",
              "      <td>NaN</td>\n",
              "      <td>103</td>\n",
              "    </tr>\n",
              "    <tr>\n",
              "      <th>292</th>\n",
              "      <td>어두운</td>\n",
              "      <td>118</td>\n",
              "      <td>Hotel Shilla</td>\n",
              "      <td>73.0</td>\n",
              "      <td>67.0</td>\n",
              "      <td>59.0</td>\n",
              "      <td>104</td>\n",
              "    </tr>\n",
              "    <tr>\n",
              "      <th>293</th>\n",
              "      <td>어두운</td>\n",
              "      <td>118</td>\n",
              "      <td>Netmarble Games</td>\n",
              "      <td>92.0</td>\n",
              "      <td>55.0</td>\n",
              "      <td>35.0</td>\n",
              "      <td>104</td>\n",
              "    </tr>\n",
              "    <tr>\n",
              "      <th>294</th>\n",
              "      <td>탁한</td>\n",
              "      <td>111</td>\n",
              "      <td>NaN</td>\n",
              "      <td>NaN</td>\n",
              "      <td>NaN</td>\n",
              "      <td>NaN</td>\n",
              "      <td>105</td>\n",
              "    </tr>\n",
              "  </tbody>\n",
              "</table>\n",
              "<p>295 rows × 7 columns</p>\n",
              "</div>"
            ],
            "text/plain": [
              "       형용사  색상 할당            names      R      G     B  point id\n",
              "0      즐거운      0         Novartis  255.0  214.0  76.0         0\n",
              "1    아기자기한      1              DHL  255.0  204.0   0.0         1\n",
              "2    아기자기한      1             IKEA  255.0  214.0   0.0         1\n",
              "3    아기자기한      1            Kakao  254.0  205.0   0.0         1\n",
              "4    아기자기한      1       McDonald's  252.0  210.0   0.0         1\n",
              "..     ...    ...              ...    ...    ...   ...       ...\n",
              "290    무거운    118  Netmarble Games   92.0   55.0  35.0       102\n",
              "291    견고한    110              NaN    NaN    NaN   NaN       103\n",
              "292    어두운    118     Hotel Shilla   73.0   67.0  59.0       104\n",
              "293    어두운    118  Netmarble Games   92.0   55.0  35.0       104\n",
              "294     탁한    111              NaN    NaN    NaN   NaN       105\n",
              "\n",
              "[295 rows x 7 columns]"
            ]
          },
          "metadata": {
            "tags": []
          },
          "execution_count": 64
        }
      ]
    },
    {
      "cell_type": "markdown",
      "metadata": {
        "id": "lLgsGvknQdRa"
      },
      "source": [
        "결과 데이터 다운"
      ]
    },
    {
      "cell_type": "code",
      "metadata": {
        "id": "QnvIK0PjQe0p",
        "colab": {
          "base_uri": "https://localhost:8080/",
          "height": 245
        },
        "outputId": "e7610f99-43ba-4f78-9739-7e3a8f723539"
      },
      "source": [
        "# knn으로 predict한 데이터\n",
        "mer.head(n=3)"
      ],
      "execution_count": null,
      "outputs": [
        {
          "output_type": "execute_result",
          "data": {
            "text/html": [
              "<div>\n",
              "<style scoped>\n",
              "    .dataframe tbody tr th:only-of-type {\n",
              "        vertical-align: middle;\n",
              "    }\n",
              "\n",
              "    .dataframe tbody tr th {\n",
              "        vertical-align: top;\n",
              "    }\n",
              "\n",
              "    .dataframe thead th {\n",
              "        text-align: right;\n",
              "    }\n",
              "</style>\n",
              "<table border=\"1\" class=\"dataframe\">\n",
              "  <thead>\n",
              "    <tr style=\"text-align: right;\">\n",
              "      <th></th>\n",
              "      <th>대분류</th>\n",
              "      <th>소분류</th>\n",
              "      <th>point id</th>\n",
              "      <th>x</th>\n",
              "      <th>y</th>\n",
              "      <th>R_x</th>\n",
              "      <th>G_x</th>\n",
              "      <th>B_x</th>\n",
              "      <th>X</th>\n",
              "      <th>Y</th>\n",
              "      <th>Unnamed: 10</th>\n",
              "      <th>Unnamed: 11</th>\n",
              "      <th>x217 y219</th>\n",
              "      <th>Unnamed: 0</th>\n",
              "      <th>names</th>\n",
              "      <th>sector</th>\n",
              "      <th>country</th>\n",
              "      <th>R_y</th>\n",
              "      <th>G_y</th>\n",
              "      <th>B_y</th>\n",
              "      <th>text color</th>\n",
              "      <th>hexcode</th>\n",
              "      <th>url</th>\n",
              "      <th>비고</th>\n",
              "      <th>H</th>\n",
              "      <th>S</th>\n",
              "      <th>V</th>\n",
              "      <th>knn predict</th>\n",
              "    </tr>\n",
              "  </thead>\n",
              "  <tbody>\n",
              "    <tr>\n",
              "      <th>0</th>\n",
              "      <td>NaN</td>\n",
              "      <td>NaN</td>\n",
              "      <td>1</td>\n",
              "      <td>95</td>\n",
              "      <td>373</td>\n",
              "      <td>241</td>\n",
              "      <td>219</td>\n",
              "      <td>1</td>\n",
              "      <td>-122</td>\n",
              "      <td>154</td>\n",
              "      <td>NaN</td>\n",
              "      <td>NaN</td>\n",
              "      <td>NaN</td>\n",
              "      <td>72</td>\n",
              "      <td>Kakao</td>\n",
              "      <td>Technology</td>\n",
              "      <td>South Korea</td>\n",
              "      <td>254</td>\n",
              "      <td>205</td>\n",
              "      <td>0</td>\n",
              "      <td>매치</td>\n",
              "      <td>#fecd00</td>\n",
              "      <td>https://www.interbrand.com/assets/00000001707.png</td>\n",
              "      <td>NaN</td>\n",
              "      <td>48.425197</td>\n",
              "      <td>1.0</td>\n",
              "      <td>0.996078</td>\n",
              "      <td>1</td>\n",
              "    </tr>\n",
              "    <tr>\n",
              "      <th>1</th>\n",
              "      <td>NaN</td>\n",
              "      <td>NaN</td>\n",
              "      <td>1</td>\n",
              "      <td>95</td>\n",
              "      <td>373</td>\n",
              "      <td>241</td>\n",
              "      <td>219</td>\n",
              "      <td>1</td>\n",
              "      <td>-122</td>\n",
              "      <td>154</td>\n",
              "      <td>NaN</td>\n",
              "      <td>NaN</td>\n",
              "      <td>NaN</td>\n",
              "      <td>88</td>\n",
              "      <td>McDonald's</td>\n",
              "      <td>Restaurants</td>\n",
              "      <td>United States</td>\n",
              "      <td>252</td>\n",
              "      <td>210</td>\n",
              "      <td>0</td>\n",
              "      <td>없음</td>\n",
              "      <td>#fcd200</td>\n",
              "      <td>https://www.interbrand.com/assets/00000001544.png</td>\n",
              "      <td>NaN</td>\n",
              "      <td>50.000000</td>\n",
              "      <td>1.0</td>\n",
              "      <td>0.988235</td>\n",
              "      <td>1</td>\n",
              "    </tr>\n",
              "    <tr>\n",
              "      <th>2</th>\n",
              "      <td>NaN</td>\n",
              "      <td>NaN</td>\n",
              "      <td>3</td>\n",
              "      <td>143</td>\n",
              "      <td>397</td>\n",
              "      <td>235</td>\n",
              "      <td>164</td>\n",
              "      <td>190</td>\n",
              "      <td>-74</td>\n",
              "      <td>178</td>\n",
              "      <td>NaN</td>\n",
              "      <td>NaN</td>\n",
              "      <td>NaN</td>\n",
              "      <td>16</td>\n",
              "      <td>Barbie</td>\n",
              "      <td>Toys &amp; Games</td>\n",
              "      <td>United States</td>\n",
              "      <td>240</td>\n",
              "      <td>120</td>\n",
              "      <td>181</td>\n",
              "      <td>매치</td>\n",
              "      <td>#f078b5</td>\n",
              "      <td>https://www.interbrand.com/assets/00000000021.png</td>\n",
              "      <td>NaN</td>\n",
              "      <td>329.500000</td>\n",
              "      <td>0.5</td>\n",
              "      <td>0.941176</td>\n",
              "      <td>3</td>\n",
              "    </tr>\n",
              "  </tbody>\n",
              "</table>\n",
              "</div>"
            ],
            "text/plain": [
              "   대분류  소분류  point id    x    y  ...   비고           H    S         V  knn predict\n",
              "0  NaN  NaN         1   95  373  ...  NaN   48.425197  1.0  0.996078            1\n",
              "1  NaN  NaN         1   95  373  ...  NaN   50.000000  1.0  0.988235            1\n",
              "2  NaN  NaN         3  143  397  ...  NaN  329.500000  0.5  0.941176            3\n",
              "\n",
              "[3 rows x 28 columns]"
            ]
          },
          "metadata": {
            "tags": []
          },
          "execution_count": 105
        }
      ]
    },
    {
      "cell_type": "code",
      "metadata": {
        "id": "DB2wjq_9Qe4F",
        "colab": {
          "base_uri": "https://localhost:8080/",
          "height": 138
        },
        "outputId": "5a12fa9f-7c4f-4e38-f277-0b1b1e0ac6d2"
      },
      "source": [
        "# sample knn predict 데이터\n",
        "sam_mer.head(n=3)"
      ],
      "execution_count": null,
      "outputs": [
        {
          "output_type": "execute_result",
          "data": {
            "text/html": [
              "<div>\n",
              "<style scoped>\n",
              "    .dataframe tbody tr th:only-of-type {\n",
              "        vertical-align: middle;\n",
              "    }\n",
              "\n",
              "    .dataframe tbody tr th {\n",
              "        vertical-align: top;\n",
              "    }\n",
              "\n",
              "    .dataframe thead th {\n",
              "        text-align: right;\n",
              "    }\n",
              "</style>\n",
              "<table border=\"1\" class=\"dataframe\">\n",
              "  <thead>\n",
              "    <tr style=\"text-align: right;\">\n",
              "      <th></th>\n",
              "      <th>names</th>\n",
              "      <th>R_y</th>\n",
              "      <th>G_y</th>\n",
              "      <th>B_y</th>\n",
              "      <th>X</th>\n",
              "      <th>Y</th>\n",
              "      <th>knn predict</th>\n",
              "      <th>R</th>\n",
              "      <th>G</th>\n",
              "      <th>B</th>\n",
              "    </tr>\n",
              "  </thead>\n",
              "  <tbody>\n",
              "    <tr>\n",
              "      <th>0</th>\n",
              "      <td>Kakao</td>\n",
              "      <td>254</td>\n",
              "      <td>205</td>\n",
              "      <td>0</td>\n",
              "      <td>-122</td>\n",
              "      <td>154</td>\n",
              "      <td>1</td>\n",
              "      <td>0.705556</td>\n",
              "      <td>0.569444</td>\n",
              "      <td>0.000000</td>\n",
              "    </tr>\n",
              "    <tr>\n",
              "      <th>1</th>\n",
              "      <td>McDonald's</td>\n",
              "      <td>252</td>\n",
              "      <td>210</td>\n",
              "      <td>0</td>\n",
              "      <td>-122</td>\n",
              "      <td>154</td>\n",
              "      <td>1</td>\n",
              "      <td>0.700000</td>\n",
              "      <td>0.583333</td>\n",
              "      <td>0.000000</td>\n",
              "    </tr>\n",
              "    <tr>\n",
              "      <th>2</th>\n",
              "      <td>Barbie</td>\n",
              "      <td>240</td>\n",
              "      <td>120</td>\n",
              "      <td>181</td>\n",
              "      <td>-74</td>\n",
              "      <td>178</td>\n",
              "      <td>3</td>\n",
              "      <td>0.666667</td>\n",
              "      <td>0.333333</td>\n",
              "      <td>0.502778</td>\n",
              "    </tr>\n",
              "  </tbody>\n",
              "</table>\n",
              "</div>"
            ],
            "text/plain": [
              "        names  R_y  G_y  B_y  ...  knn predict         R         G         B\n",
              "0       Kakao  254  205    0  ...            1  0.705556  0.569444  0.000000\n",
              "1  McDonald's  252  210    0  ...            1  0.700000  0.583333  0.000000\n",
              "2      Barbie  240  120  181  ...            3  0.666667  0.333333  0.502778\n",
              "\n",
              "[3 rows x 10 columns]"
            ]
          },
          "metadata": {
            "tags": []
          },
          "execution_count": 108
        }
      ]
    },
    {
      "cell_type": "code",
      "metadata": {
        "id": "Xglcfwk_Q2Sn"
      },
      "source": [
        "mer.to_csv('iri_knn.csv', index=False)"
      ],
      "execution_count": null,
      "outputs": []
    },
    {
      "cell_type": "code",
      "metadata": {
        "id": "OCxISXpgQe8o"
      },
      "source": [
        "sam_mer.to_csv('sampe_iri_knn.csv', index=False)"
      ],
      "execution_count": null,
      "outputs": []
    }
  ]
}