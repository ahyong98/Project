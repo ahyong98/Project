{
  "nbformat": 4,
  "nbformat_minor": 0,
  "metadata": {
    "kernelspec": {
      "display_name": "Python 3",
      "language": "python",
      "name": "python3"
    },
    "language_info": {
      "codemirror_mode": {
        "name": "ipython",
        "version": 3
      },
      "file_extension": ".py",
      "mimetype": "text/x-python",
      "name": "python",
      "nbconvert_exporter": "python",
      "pygments_lexer": "ipython3",
      "version": "3.8.5"
    },
    "colab": {
      "name": "0.상권정보데이터행정동결측치처리(크롤링).ipynb",
      "provenance": [],
      "collapsed_sections": []
    }
  },
  "cells": [
    {
      "cell_type": "code",
      "metadata": {
        "id": "ydIAwAPKuYd7",
        "outputId": "3d9eac28-b761-4f35-b529-7934924fe8f4"
      },
      "source": [
        "!pip install selenium"
      ],
      "execution_count": null,
      "outputs": [
        {
          "output_type": "stream",
          "text": [
            "Collecting selenium\n",
            "  Downloading selenium-3.141.0-py2.py3-none-any.whl (904 kB)\n",
            "Requirement already satisfied: urllib3 in c:\\users\\ayeong\\anaconda3\\lib\\site-packages (from selenium) (1.25.11)\n",
            "Installing collected packages: selenium\n",
            "Successfully installed selenium-3.141.0\n"
          ],
          "name": "stdout"
        }
      ]
    },
    {
      "cell_type": "code",
      "metadata": {
        "id": "1kMmDgI8uYeI"
      },
      "source": [
        "import pandas as pd\n",
        "\n",
        "from selenium import webdriver\n",
        "from selenium.webdriver.common.keys import Keys\n",
        "from selenium.webdriver.support.ui import WebDriverWait\n",
        "from selenium.webdriver.support import expected_conditions as EC\n",
        "from selenium.webdriver.common.by import By\n",
        "\n",
        "from bs4 import BeautifulSoup\n",
        "\n",
        "import time"
      ],
      "execution_count": null,
      "outputs": []
    },
    {
      "cell_type": "code",
      "metadata": {
        "id": "DvaUrW0wuYeJ",
        "outputId": "5066cfa5-4751-46d7-f56a-9f1daaabb4b4"
      },
      "source": [
        "data = pd.read_csv('1_2.용인시_상권_정보_결합.csv')\n",
        "data.head()"
      ],
      "execution_count": null,
      "outputs": [
        {
          "output_type": "execute_result",
          "data": {
            "text/html": [
              "<div>\n",
              "<style scoped>\n",
              "    .dataframe tbody tr th:only-of-type {\n",
              "        vertical-align: middle;\n",
              "    }\n",
              "\n",
              "    .dataframe tbody tr th {\n",
              "        vertical-align: top;\n",
              "    }\n",
              "\n",
              "    .dataframe thead th {\n",
              "        text-align: right;\n",
              "    }\n",
              "</style>\n",
              "<table border=\"1\" class=\"dataframe\">\n",
              "  <thead>\n",
              "    <tr style=\"text-align: right;\">\n",
              "      <th></th>\n",
              "      <th>대분류코드</th>\n",
              "      <th>중분류코드</th>\n",
              "      <th>소분류코드</th>\n",
              "      <th>표준산업분류코드</th>\n",
              "      <th>표준산업분류명</th>\n",
              "      <th>행정동코드</th>\n",
              "      <th>행정동명</th>\n",
              "      <th>도로명주소</th>\n",
              "      <th>경도</th>\n",
              "      <th>위도</th>\n",
              "      <th>대분류명</th>\n",
              "      <th>중분류명</th>\n",
              "      <th>소분류명</th>\n",
              "    </tr>\n",
              "  </thead>\n",
              "  <tbody>\n",
              "    <tr>\n",
              "      <th>0</th>\n",
              "      <td>Q</td>\n",
              "      <td>Q09</td>\n",
              "      <td>Q09A10</td>\n",
              "      <td>I56211</td>\n",
              "      <td>일반유흥 주점업</td>\n",
              "      <td>4146551000</td>\n",
              "      <td>풍덕천1동</td>\n",
              "      <td>경기도 용인시 수지구 풍덕천로139번길 6-5</td>\n",
              "      <td>127.096851</td>\n",
              "      <td>37.324611</td>\n",
              "      <td>음식</td>\n",
              "      <td>유흥주점</td>\n",
              "      <td>룸살롱/단란주점</td>\n",
              "    </tr>\n",
              "    <tr>\n",
              "      <th>1</th>\n",
              "      <td>Q</td>\n",
              "      <td>Q01</td>\n",
              "      <td>Q01A08</td>\n",
              "      <td>I56111</td>\n",
              "      <td>한식 음식점업</td>\n",
              "      <td>4146551000</td>\n",
              "      <td>풍덕천1동</td>\n",
              "      <td>경기도 용인시 수지구 풍덕천로190번길 23</td>\n",
              "      <td>127.102347</td>\n",
              "      <td>37.324553</td>\n",
              "      <td>음식</td>\n",
              "      <td>한식</td>\n",
              "      <td>족발/보쌈전문</td>\n",
              "    </tr>\n",
              "    <tr>\n",
              "      <th>2</th>\n",
              "      <td>Q</td>\n",
              "      <td>Q01</td>\n",
              "      <td>Q01A01</td>\n",
              "      <td>I56111</td>\n",
              "      <td>한식 음식점업</td>\n",
              "      <td>4146352000</td>\n",
              "      <td>구갈동</td>\n",
              "      <td>경기도 용인시 기흥구 갈곡로7번길 8</td>\n",
              "      <td>127.128573</td>\n",
              "      <td>37.272405</td>\n",
              "      <td>음식</td>\n",
              "      <td>한식</td>\n",
              "      <td>한식/백반/한정식</td>\n",
              "    </tr>\n",
              "    <tr>\n",
              "      <th>3</th>\n",
              "      <td>Q</td>\n",
              "      <td>Q09</td>\n",
              "      <td>Q09A10</td>\n",
              "      <td>I56211</td>\n",
              "      <td>일반유흥 주점업</td>\n",
              "      <td>4146151000</td>\n",
              "      <td>중앙동</td>\n",
              "      <td>경기도 용인시 처인구 금령로71번길 2</td>\n",
              "      <td>127.204204</td>\n",
              "      <td>37.235371</td>\n",
              "      <td>음식</td>\n",
              "      <td>유흥주점</td>\n",
              "      <td>룸살롱/단란주점</td>\n",
              "    </tr>\n",
              "    <tr>\n",
              "      <th>4</th>\n",
              "      <td>Q</td>\n",
              "      <td>Q10</td>\n",
              "      <td>Q10A01</td>\n",
              "      <td>I56111</td>\n",
              "      <td>한식 음식점업</td>\n",
              "      <td>4146359000</td>\n",
              "      <td>보정동</td>\n",
              "      <td>경기도 용인시 기흥구 죽전로 50</td>\n",
              "      <td>127.114245</td>\n",
              "      <td>37.320282</td>\n",
              "      <td>음식</td>\n",
              "      <td>별식/퓨전요리</td>\n",
              "      <td>죽전문점</td>\n",
              "    </tr>\n",
              "  </tbody>\n",
              "</table>\n",
              "</div>"
            ],
            "text/plain": [
              "  대분류코드 중분류코드   소분류코드 표준산업분류코드   표준산업분류명       행정동코드   행정동명  \\\n",
              "0     Q   Q09  Q09A10   I56211  일반유흥 주점업  4146551000  풍덕천1동   \n",
              "1     Q   Q01  Q01A08   I56111   한식 음식점업  4146551000  풍덕천1동   \n",
              "2     Q   Q01  Q01A01   I56111   한식 음식점업  4146352000    구갈동   \n",
              "3     Q   Q09  Q09A10   I56211  일반유흥 주점업  4146151000    중앙동   \n",
              "4     Q   Q10  Q10A01   I56111   한식 음식점업  4146359000    보정동   \n",
              "\n",
              "                       도로명주소          경도         위도 대분류명     중분류명       소분류명  \n",
              "0  경기도 용인시 수지구 풍덕천로139번길 6-5  127.096851  37.324611   음식     유흥주점   룸살롱/단란주점  \n",
              "1   경기도 용인시 수지구 풍덕천로190번길 23  127.102347  37.324553   음식       한식    족발/보쌈전문  \n",
              "2       경기도 용인시 기흥구 갈곡로7번길 8  127.128573  37.272405   음식       한식  한식/백반/한정식  \n",
              "3      경기도 용인시 처인구 금령로71번길 2  127.204204  37.235371   음식     유흥주점   룸살롱/단란주점  \n",
              "4         경기도 용인시 기흥구 죽전로 50  127.114245  37.320282   음식  별식/퓨전요리       죽전문점  "
            ]
          },
          "metadata": {
            "tags": []
          },
          "execution_count": 100
        }
      ]
    },
    {
      "cell_type": "code",
      "metadata": {
        "id": "rJVFzFPfuYeK"
      },
      "source": [
        "df = data.copy()\n",
        "nadf = data[data.행정동명.isnull()]  # 행정동이 결측치인 데이터\n",
        "address = nadf.도로명주소"
      ],
      "execution_count": null,
      "outputs": []
    },
    {
      "cell_type": "code",
      "metadata": {
        "id": "TEMp7JTLuYeL"
      },
      "source": [
        ""
      ],
      "execution_count": null,
      "outputs": []
    },
    {
      "cell_type": "code",
      "metadata": {
        "scrolled": true,
        "id": "L-8cqYBsuYeM"
      },
      "source": [
        "result = []\n",
        "\n",
        "for add in address:\n",
        "    search = driver.find_element_by_css_selector('#innerQuery')  # 검색창\n",
        "    search.send_keys(add)  # 주소 입력\n",
        "    time.sleep(1)\n",
        "    search.send_keys(Keys.RETURN)  # 엔터\n",
        "    time.sleep(1)\n",
        "    driver.find_element_by_css_selector('#addressList > li > div > a > strong').click()  # 시 / 자치구 / 행정동 크롤링\n",
        "    time.sleep(1)\n",
        "    txt = driver.find_element_by_css_selector('#daumContent > div.content_map > div.map_area.hide > div.wrap_tit > strong').text  # 결과 저장\n",
        "    result.append(txt)\n",
        "    time.sleep(1)\n",
        "    search = driver.find_element_by_css_selector('#innerQuery')  # 검색창\n",
        "    time.sleep(1)\n",
        "    search.clear()  # 초기화\n",
        "    time.sleep(1)"
      ],
      "execution_count": null,
      "outputs": []
    },
    {
      "cell_type": "code",
      "metadata": {
        "id": "7AimiXvPuYeO",
        "outputId": "b3fa4380-c5c3-45aa-9b09-638e04cc1115"
      },
      "source": [
        "len(nadf)"
      ],
      "execution_count": null,
      "outputs": [
        {
          "output_type": "execute_result",
          "data": {
            "text/plain": [
              "125"
            ]
          },
          "metadata": {
            "tags": []
          },
          "execution_count": 102
        }
      ]
    },
    {
      "cell_type": "code",
      "metadata": {
        "scrolled": true,
        "id": "DgFZi9rzuYeO",
        "outputId": "22c9d8bd-b59e-47cb-e4b0-08808e032346"
      },
      "source": [
        "len(result)"
      ],
      "execution_count": null,
      "outputs": [
        {
          "output_type": "execute_result",
          "data": {
            "text/plain": [
              "125"
            ]
          },
          "metadata": {
            "tags": []
          },
          "execution_count": 61
        }
      ]
    },
    {
      "cell_type": "code",
      "metadata": {
        "id": "dk6y0x9JuYeP"
      },
      "source": [
        "dong = []\n",
        "for txt in result:\n",
        "    dong.append(str(txt)[11:])  # 행정동만 저장\n",
        "dong"
      ],
      "execution_count": null,
      "outputs": []
    },
    {
      "cell_type": "code",
      "metadata": {
        "id": "UD1XalHYuYeQ"
      },
      "source": [
        "df.iloc[nadf.index,6] = dong"
      ],
      "execution_count": null,
      "outputs": []
    },
    {
      "cell_type": "code",
      "metadata": {
        "id": "JBmkdLnduYeS",
        "outputId": "d6696b14-d950-4fe4-aeaf-0ec7837e5a94"
      },
      "source": [
        "df.to_csv('1_2.용인시_상권_정보_결합_결측치처리.csv', encoding='utf-8')\n",
        "df.head()"
      ],
      "execution_count": null,
      "outputs": [
        {
          "output_type": "execute_result",
          "data": {
            "text/html": [
              "<div>\n",
              "<style scoped>\n",
              "    .dataframe tbody tr th:only-of-type {\n",
              "        vertical-align: middle;\n",
              "    }\n",
              "\n",
              "    .dataframe tbody tr th {\n",
              "        vertical-align: top;\n",
              "    }\n",
              "\n",
              "    .dataframe thead th {\n",
              "        text-align: right;\n",
              "    }\n",
              "</style>\n",
              "<table border=\"1\" class=\"dataframe\">\n",
              "  <thead>\n",
              "    <tr style=\"text-align: right;\">\n",
              "      <th></th>\n",
              "      <th>대분류코드</th>\n",
              "      <th>중분류코드</th>\n",
              "      <th>소분류코드</th>\n",
              "      <th>표준산업분류코드</th>\n",
              "      <th>표준산업분류명</th>\n",
              "      <th>행정동코드</th>\n",
              "      <th>행정동명</th>\n",
              "      <th>도로명주소</th>\n",
              "      <th>경도</th>\n",
              "      <th>위도</th>\n",
              "      <th>대분류명</th>\n",
              "      <th>중분류명</th>\n",
              "      <th>소분류명</th>\n",
              "    </tr>\n",
              "  </thead>\n",
              "  <tbody>\n",
              "    <tr>\n",
              "      <th>0</th>\n",
              "      <td>Q</td>\n",
              "      <td>Q09</td>\n",
              "      <td>Q09A10</td>\n",
              "      <td>I56211</td>\n",
              "      <td>일반유흥 주점업</td>\n",
              "      <td>4146551000</td>\n",
              "      <td>풍덕천1동</td>\n",
              "      <td>경기도 용인시 수지구 풍덕천로139번길 6-5</td>\n",
              "      <td>127.096851</td>\n",
              "      <td>37.324611</td>\n",
              "      <td>음식</td>\n",
              "      <td>유흥주점</td>\n",
              "      <td>룸살롱/단란주점</td>\n",
              "    </tr>\n",
              "    <tr>\n",
              "      <th>1</th>\n",
              "      <td>Q</td>\n",
              "      <td>Q01</td>\n",
              "      <td>Q01A08</td>\n",
              "      <td>I56111</td>\n",
              "      <td>한식 음식점업</td>\n",
              "      <td>4146551000</td>\n",
              "      <td>풍덕천1동</td>\n",
              "      <td>경기도 용인시 수지구 풍덕천로190번길 23</td>\n",
              "      <td>127.102347</td>\n",
              "      <td>37.324553</td>\n",
              "      <td>음식</td>\n",
              "      <td>한식</td>\n",
              "      <td>족발/보쌈전문</td>\n",
              "    </tr>\n",
              "    <tr>\n",
              "      <th>2</th>\n",
              "      <td>Q</td>\n",
              "      <td>Q01</td>\n",
              "      <td>Q01A01</td>\n",
              "      <td>I56111</td>\n",
              "      <td>한식 음식점업</td>\n",
              "      <td>4146352000</td>\n",
              "      <td>구갈동</td>\n",
              "      <td>경기도 용인시 기흥구 갈곡로7번길 8</td>\n",
              "      <td>127.128573</td>\n",
              "      <td>37.272405</td>\n",
              "      <td>음식</td>\n",
              "      <td>한식</td>\n",
              "      <td>한식/백반/한정식</td>\n",
              "    </tr>\n",
              "    <tr>\n",
              "      <th>3</th>\n",
              "      <td>Q</td>\n",
              "      <td>Q09</td>\n",
              "      <td>Q09A10</td>\n",
              "      <td>I56211</td>\n",
              "      <td>일반유흥 주점업</td>\n",
              "      <td>4146151000</td>\n",
              "      <td>중앙동</td>\n",
              "      <td>경기도 용인시 처인구 금령로71번길 2</td>\n",
              "      <td>127.204204</td>\n",
              "      <td>37.235371</td>\n",
              "      <td>음식</td>\n",
              "      <td>유흥주점</td>\n",
              "      <td>룸살롱/단란주점</td>\n",
              "    </tr>\n",
              "    <tr>\n",
              "      <th>4</th>\n",
              "      <td>Q</td>\n",
              "      <td>Q10</td>\n",
              "      <td>Q10A01</td>\n",
              "      <td>I56111</td>\n",
              "      <td>한식 음식점업</td>\n",
              "      <td>4146359000</td>\n",
              "      <td>보정동</td>\n",
              "      <td>경기도 용인시 기흥구 죽전로 50</td>\n",
              "      <td>127.114245</td>\n",
              "      <td>37.320282</td>\n",
              "      <td>음식</td>\n",
              "      <td>별식/퓨전요리</td>\n",
              "      <td>죽전문점</td>\n",
              "    </tr>\n",
              "  </tbody>\n",
              "</table>\n",
              "</div>"
            ],
            "text/plain": [
              "  대분류코드 중분류코드   소분류코드 표준산업분류코드   표준산업분류명       행정동코드   행정동명  \\\n",
              "0     Q   Q09  Q09A10   I56211  일반유흥 주점업  4146551000  풍덕천1동   \n",
              "1     Q   Q01  Q01A08   I56111   한식 음식점업  4146551000  풍덕천1동   \n",
              "2     Q   Q01  Q01A01   I56111   한식 음식점업  4146352000    구갈동   \n",
              "3     Q   Q09  Q09A10   I56211  일반유흥 주점업  4146151000    중앙동   \n",
              "4     Q   Q10  Q10A01   I56111   한식 음식점업  4146359000    보정동   \n",
              "\n",
              "                       도로명주소          경도         위도 대분류명     중분류명       소분류명  \n",
              "0  경기도 용인시 수지구 풍덕천로139번길 6-5  127.096851  37.324611   음식     유흥주점   룸살롱/단란주점  \n",
              "1   경기도 용인시 수지구 풍덕천로190번길 23  127.102347  37.324553   음식       한식    족발/보쌈전문  \n",
              "2       경기도 용인시 기흥구 갈곡로7번길 8  127.128573  37.272405   음식       한식  한식/백반/한정식  \n",
              "3      경기도 용인시 처인구 금령로71번길 2  127.204204  37.235371   음식     유흥주점   룸살롱/단란주점  \n",
              "4         경기도 용인시 기흥구 죽전로 50  127.114245  37.320282   음식  별식/퓨전요리       죽전문점  "
            ]
          },
          "metadata": {
            "tags": []
          },
          "execution_count": 110
        }
      ]
    }
  ]
}