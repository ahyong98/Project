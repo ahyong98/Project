{
  "nbformat": 4,
  "nbformat_minor": 0,
  "metadata": {
    "colab": {
      "name": "분류 모델링.ipynb",
      "provenance": [],
      "collapsed_sections": [],
      "toc_visible": true
    },
    "kernelspec": {
      "name": "python3",
      "display_name": "Python 3"
    }
  },
  "cells": [
    {
      "cell_type": "markdown",
      "metadata": {
        "id": "pb7Snzpjz6LO"
      },
      "source": [
        "# 어선사고 발생여부 분류 및 예측 모델링"
      ]
    },
    {
      "cell_type": "markdown",
      "metadata": {
        "id": "9OYVQ8G8z_U5"
      },
      "source": [
        "## 환경설정"
      ]
    },
    {
      "cell_type": "code",
      "metadata": {
        "id": "yaPcIqhpv6wz",
        "colab": {
          "base_uri": "https://localhost:8080/"
        },
        "outputId": "476ec886-73fb-4b22-ad5a-daede128975c"
      },
      "source": [
        "import pandas as pd\n",
        "import numpy as np\n",
        "from tqdm import tqdm\n",
        "\n",
        "from sklearn.decomposition import PCA\n",
        "from sklearn.preprocessing import LabelEncoder, MinMaxScaler, StandardScaler\n",
        "\n",
        "import seaborn as sns\n",
        "from matplotlib import pyplot as plt\n",
        "\n",
        "from sklearn.model_selection import StratifiedKFold, train_test_split, RandomizedSearchCV, GridSearchCV, cross_val_score\n",
        "from sklearn.feature_selection import SelectFromModel\n",
        "from sklearn.metrics import accuracy_score\n",
        "\n",
        "from sklearn.linear_model import LogisticRegression\n",
        "from sklearn.neighbors import KNeighborsClassifier\n",
        "from sklearn.tree import DecisionTreeClassifier\n",
        "from sklearn.ensemble import RandomForestClassifier, GradientBoostingClassifier\n",
        "from lightgbm import LGBMClassifier\n",
        "from xgboost import XGBClassifier\n",
        "\n",
        "!pip install shap\n",
        "import shap\n",
        "\n",
        "import os\n",
        "os.chdir('/content/drive/MyDrive/해양수산 빅데이터 경진대회/데이터/')"
      ],
      "execution_count": null,
      "outputs": [
        {
          "output_type": "stream",
          "text": [
            "Requirement already satisfied: shap in /usr/local/lib/python3.6/dist-packages (0.37.0)\n",
            "Requirement already satisfied: scipy in /usr/local/lib/python3.6/dist-packages (from shap) (1.4.1)\n",
            "Requirement already satisfied: numba in /usr/local/lib/python3.6/dist-packages (from shap) (0.48.0)\n",
            "Requirement already satisfied: numpy in /usr/local/lib/python3.6/dist-packages (from shap) (1.18.5)\n",
            "Requirement already satisfied: tqdm>4.25.0 in /usr/local/lib/python3.6/dist-packages (from shap) (4.41.1)\n",
            "Requirement already satisfied: scikit-learn in /usr/local/lib/python3.6/dist-packages (from shap) (0.22.2.post1)\n",
            "Requirement already satisfied: slicer==0.0.3 in /usr/local/lib/python3.6/dist-packages (from shap) (0.0.3)\n",
            "Requirement already satisfied: pandas in /usr/local/lib/python3.6/dist-packages (from shap) (1.1.4)\n",
            "Requirement already satisfied: llvmlite<0.32.0,>=0.31.0dev0 in /usr/local/lib/python3.6/dist-packages (from numba->shap) (0.31.0)\n",
            "Requirement already satisfied: setuptools in /usr/local/lib/python3.6/dist-packages (from numba->shap) (50.3.2)\n",
            "Requirement already satisfied: joblib>=0.11 in /usr/local/lib/python3.6/dist-packages (from scikit-learn->shap) (0.17.0)\n",
            "Requirement already satisfied: python-dateutil>=2.7.3 in /usr/local/lib/python3.6/dist-packages (from pandas->shap) (2.8.1)\n",
            "Requirement already satisfied: pytz>=2017.2 in /usr/local/lib/python3.6/dist-packages (from pandas->shap) (2018.9)\n",
            "Requirement already satisfied: six>=1.5 in /usr/local/lib/python3.6/dist-packages (from python-dateutil>=2.7.3->pandas->shap) (1.15.0)\n"
          ],
          "name": "stdout"
        }
      ]
    },
    {
      "cell_type": "code",
      "metadata": {
        "colab": {
          "base_uri": "https://localhost:8080/"
        },
        "id": "Cq3ISbfCO1TR",
        "outputId": "d2828004-169c-4f36-af48-f44e2d0a5b5c"
      },
      "source": [
        "!sudo apt-get install -y fonts-nanum\n",
        "!sudo fc-cache -fv\n",
        "!rm ~/.cache/matplotlib -rf"
      ],
      "execution_count": null,
      "outputs": [
        {
          "output_type": "stream",
          "text": [
            "Reading package lists... Done\n",
            "Building dependency tree       \n",
            "Reading state information... Done\n",
            "The following NEW packages will be installed:\n",
            "  fonts-nanum\n",
            "0 upgraded, 1 newly installed, 0 to remove and 14 not upgraded.\n",
            "Need to get 9,604 kB of archives.\n",
            "After this operation, 29.5 MB of additional disk space will be used.\n",
            "Get:1 http://archive.ubuntu.com/ubuntu bionic/universe amd64 fonts-nanum all 20170925-1 [9,604 kB]\n",
            "Fetched 9,604 kB in 1s (8,120 kB/s)\n",
            "debconf: unable to initialize frontend: Dialog\n",
            "debconf: (No usable dialog-like program is installed, so the dialog based frontend cannot be used. at /usr/share/perl5/Debconf/FrontEnd/Dialog.pm line 76, <> line 1.)\n",
            "debconf: falling back to frontend: Readline\n",
            "debconf: unable to initialize frontend: Readline\n",
            "debconf: (This frontend requires a controlling tty.)\n",
            "debconf: falling back to frontend: Teletype\n",
            "dpkg-preconfigure: unable to re-open stdin: \n",
            "Selecting previously unselected package fonts-nanum.\n",
            "(Reading database ... 144865 files and directories currently installed.)\n",
            "Preparing to unpack .../fonts-nanum_20170925-1_all.deb ...\n",
            "Unpacking fonts-nanum (20170925-1) ...\n",
            "Setting up fonts-nanum (20170925-1) ...\n",
            "Processing triggers for fontconfig (2.12.6-0ubuntu2) ...\n",
            "/usr/share/fonts: caching, new cache contents: 0 fonts, 1 dirs\n",
            "/usr/share/fonts/truetype: caching, new cache contents: 0 fonts, 3 dirs\n",
            "/usr/share/fonts/truetype/humor-sans: caching, new cache contents: 1 fonts, 0 dirs\n",
            "/usr/share/fonts/truetype/liberation: caching, new cache contents: 16 fonts, 0 dirs\n",
            "/usr/share/fonts/truetype/nanum: caching, new cache contents: 10 fonts, 0 dirs\n",
            "/usr/local/share/fonts: caching, new cache contents: 0 fonts, 0 dirs\n",
            "/root/.local/share/fonts: skipping, no such directory\n",
            "/root/.fonts: skipping, no such directory\n",
            "/var/cache/fontconfig: cleaning cache directory\n",
            "/root/.cache/fontconfig: not cleaning non-existent cache directory\n",
            "/root/.fontconfig: not cleaning non-existent cache directory\n",
            "fc-cache: succeeded\n"
          ],
          "name": "stdout"
        }
      ]
    },
    {
      "cell_type": "code",
      "metadata": {
        "id": "84Dm0O2FO4PI"
      },
      "source": [
        "plt.rc('font', family='NanumBarunGothic') "
      ],
      "execution_count": null,
      "outputs": []
    },
    {
      "cell_type": "markdown",
      "metadata": {
        "id": "M7nz5piQ0R63"
      },
      "source": [
        "## 데이터"
      ]
    },
    {
      "cell_type": "code",
      "metadata": {
        "id": "e21oXn2zzdA_"
      },
      "source": [
        "data = pd.read_csv('/content/drive/MyDrive/해양수산 빅데이터 경진대회/데이터/07_5년 해양사고 데이터_이진분류.csv',encoding='cp949')"
      ],
      "execution_count": null,
      "outputs": []
    },
    {
      "cell_type": "code",
      "metadata": {
        "colab": {
          "base_uri": "https://localhost:8080/"
        },
        "id": "z6f751nWzrvb",
        "outputId": "611c29c7-d5dc-4d5b-b4a8-b754c7525ea0"
      },
      "source": [
        "### 어선사고 발생 여부\n",
        "# 채택된 범주형 변수 : 해양사고종류, 월, 시간대, 계절, 발생해역\n",
        "#cat_var = ['해양사고종류1','해양사고발생(월)','해양사고발생시간대','계절','해양사고발생해역(통계용)']\n",
        "cat_var = ['해양사고발생(월)','해양사고발생시간대','계절','해양사고발생해역(통계용)']\n",
        "# 채택된 연속형 변수 : 파향 선박톤수\n",
        "num_var = ['파향','선박톤수']\n",
        "df_cat = data[cat_var]\n",
        "df_num = data[num_var]\n",
        "df_cat['해양사고발생(월)'] = df_cat['해양사고발생(월)'].astype(str)+'월'"
      ],
      "execution_count": null,
      "outputs": [
        {
          "output_type": "stream",
          "text": [
            "\n",
            "A value is trying to be set on a copy of a slice from a DataFrame.\n",
            "Try using .loc[row_indexer,col_indexer] = value instead\n",
            "\n",
            "See the caveats in the documentation: https://pandas.pydata.org/pandas-docs/stable/user_guide/indexing.html#returning-a-view-versus-a-copy\n"
          ],
          "name": "stderr"
        }
      ]
    },
    {
      "cell_type": "markdown",
      "metadata": {
        "id": "4A0GilEZ2ZaQ"
      },
      "source": [
        "### 정규화"
      ]
    },
    {
      "cell_type": "code",
      "metadata": {
        "colab": {
          "base_uri": "https://localhost:8080/",
          "height": 419
        },
        "id": "DsbdqrXk2aNO",
        "outputId": "39c70728-1386-4200-f698-c260b9bf0595"
      },
      "source": [
        "scaler = StandardScaler()\n",
        "df_num_s = scaler.fit_transform(df_num)\n",
        "df_num_s = pd.DataFrame(df_num_s,columns=num_var)\n",
        "df_num_s"
      ],
      "execution_count": null,
      "outputs": [
        {
          "output_type": "execute_result",
          "data": {
            "text/html": [
              "<div>\n",
              "<style scoped>\n",
              "    .dataframe tbody tr th:only-of-type {\n",
              "        vertical-align: middle;\n",
              "    }\n",
              "\n",
              "    .dataframe tbody tr th {\n",
              "        vertical-align: top;\n",
              "    }\n",
              "\n",
              "    .dataframe thead th {\n",
              "        text-align: right;\n",
              "    }\n",
              "</style>\n",
              "<table border=\"1\" class=\"dataframe\">\n",
              "  <thead>\n",
              "    <tr style=\"text-align: right;\">\n",
              "      <th></th>\n",
              "      <th>파향</th>\n",
              "      <th>선박톤수</th>\n",
              "    </tr>\n",
              "  </thead>\n",
              "  <tbody>\n",
              "    <tr>\n",
              "      <th>0</th>\n",
              "      <td>1.676582</td>\n",
              "      <td>-0.625961</td>\n",
              "    </tr>\n",
              "    <tr>\n",
              "      <th>1</th>\n",
              "      <td>1.161115</td>\n",
              "      <td>1.928970</td>\n",
              "    </tr>\n",
              "    <tr>\n",
              "      <th>2</th>\n",
              "      <td>1.455668</td>\n",
              "      <td>1.928970</td>\n",
              "    </tr>\n",
              "    <tr>\n",
              "      <th>3</th>\n",
              "      <td>-0.627242</td>\n",
              "      <td>-0.625623</td>\n",
              "    </tr>\n",
              "    <tr>\n",
              "      <th>4</th>\n",
              "      <td>-0.785039</td>\n",
              "      <td>0.792808</td>\n",
              "    </tr>\n",
              "    <tr>\n",
              "      <th>...</th>\n",
              "      <td>...</td>\n",
              "      <td>...</td>\n",
              "    </tr>\n",
              "    <tr>\n",
              "      <th>15289</th>\n",
              "      <td>1.518786</td>\n",
              "      <td>-0.253880</td>\n",
              "    </tr>\n",
              "    <tr>\n",
              "      <th>15290</th>\n",
              "      <td>1.508266</td>\n",
              "      <td>1.928970</td>\n",
              "    </tr>\n",
              "    <tr>\n",
              "      <th>15291</th>\n",
              "      <td>1.518786</td>\n",
              "      <td>0.387638</td>\n",
              "    </tr>\n",
              "    <tr>\n",
              "      <th>15292</th>\n",
              "      <td>1.403069</td>\n",
              "      <td>-0.505423</td>\n",
              "    </tr>\n",
              "    <tr>\n",
              "      <th>15293</th>\n",
              "      <td>1.508266</td>\n",
              "      <td>-0.626636</td>\n",
              "    </tr>\n",
              "  </tbody>\n",
              "</table>\n",
              "<p>15294 rows × 2 columns</p>\n",
              "</div>"
            ],
            "text/plain": [
              "             파향      선박톤수\n",
              "0      1.676582 -0.625961\n",
              "1      1.161115  1.928970\n",
              "2      1.455668  1.928970\n",
              "3     -0.627242 -0.625623\n",
              "4     -0.785039  0.792808\n",
              "...         ...       ...\n",
              "15289  1.518786 -0.253880\n",
              "15290  1.508266  1.928970\n",
              "15291  1.518786  0.387638\n",
              "15292  1.403069 -0.505423\n",
              "15293  1.508266 -0.626636\n",
              "\n",
              "[15294 rows x 2 columns]"
            ]
          },
          "metadata": {
            "tags": []
          },
          "execution_count": 5
        }
      ]
    },
    {
      "cell_type": "markdown",
      "metadata": {
        "id": "RvRU7Ihv2-4t"
      },
      "source": [
        "### 인코딩"
      ]
    },
    {
      "cell_type": "code",
      "metadata": {
        "colab": {
          "base_uri": "https://localhost:8080/"
        },
        "id": "dLbzYMey3qWX",
        "outputId": "7f3becb5-16ef-4259-f635-97901870b7fa"
      },
      "source": [
        "### 각 변수별 범주(category) 확인\n",
        "\n",
        "for col in cat_var:\n",
        "  print(col)\n",
        "  print(df_cat[col].unique())"
      ],
      "execution_count": null,
      "outputs": [
        {
          "output_type": "stream",
          "text": [
            "해양사고발생(월)\n",
            "['1월' '2월' '3월' '4월' '5월' '6월' '7월' '8월' '9월' '10월' '11월' '12월']\n",
            "해양사고발생시간대\n",
            "['8-12시' '0-4시' '20-24시' '4-8시' '16-20시' '12-16시']\n",
            "계절\n",
            "['겨울' '봄' '여름' '가을']\n",
            "해양사고발생해역(통계용)\n",
            "['동해영해' '남해영해' '동해항, 묵호항, 속초항, 삼척항' '서해영해' '울산항(미포만포함), 포항항' '부산항 및 진입수로'\n",
            " '인천항 및 진입수로' '기타개항' '장항항,군산항 및 진입수로' '제주항, 서귀포항' '마산항, 진해항, 진해만(가덕수로)'\n",
            " '여수항, 광양항 및 진입수로' '목포항 및 진입수로' '부산거제수역(옥포, 장승포)' '삼천포, 통영항, 통영해만, 견내량수로'\n",
            " '평택항, 당진항' '서해공해' '동해공해' '동남아' '일본수역' '남해공해' '대산항 및 진입수로' '원양' '기타']\n"
          ],
          "name": "stdout"
        }
      ]
    },
    {
      "cell_type": "code",
      "metadata": {
        "colab": {
          "base_uri": "https://localhost:8080/",
          "height": 408
        },
        "id": "N3sH_zh94pxR",
        "outputId": "be247565-15db-4c31-9afc-a0c49c36fb7c"
      },
      "source": [
        "df_cat_h = pd.DataFrame(range(len(df_cat)),columns=['index'])\n",
        "for col in cat_var:\n",
        "  temp_df = pd.get_dummies(df_cat[col])\n",
        "  df_cat_h = pd.concat([df_cat_h,temp_df],axis=1)\n",
        "\n",
        "df_cat_h = df_cat_h.drop(['index'],axis=1)\n",
        "df_cat_h.head()"
      ],
      "execution_count": null,
      "outputs": [
        {
          "output_type": "execute_result",
          "data": {
            "text/html": [
              "<div>\n",
              "<style scoped>\n",
              "    .dataframe tbody tr th:only-of-type {\n",
              "        vertical-align: middle;\n",
              "    }\n",
              "\n",
              "    .dataframe tbody tr th {\n",
              "        vertical-align: top;\n",
              "    }\n",
              "\n",
              "    .dataframe thead th {\n",
              "        text-align: right;\n",
              "    }\n",
              "</style>\n",
              "<table border=\"1\" class=\"dataframe\">\n",
              "  <thead>\n",
              "    <tr style=\"text-align: right;\">\n",
              "      <th></th>\n",
              "      <th>10월</th>\n",
              "      <th>11월</th>\n",
              "      <th>12월</th>\n",
              "      <th>1월</th>\n",
              "      <th>2월</th>\n",
              "      <th>3월</th>\n",
              "      <th>4월</th>\n",
              "      <th>5월</th>\n",
              "      <th>6월</th>\n",
              "      <th>7월</th>\n",
              "      <th>8월</th>\n",
              "      <th>9월</th>\n",
              "      <th>0-4시</th>\n",
              "      <th>12-16시</th>\n",
              "      <th>16-20시</th>\n",
              "      <th>20-24시</th>\n",
              "      <th>4-8시</th>\n",
              "      <th>8-12시</th>\n",
              "      <th>가을</th>\n",
              "      <th>겨울</th>\n",
              "      <th>봄</th>\n",
              "      <th>여름</th>\n",
              "      <th>기타</th>\n",
              "      <th>기타개항</th>\n",
              "      <th>남해공해</th>\n",
              "      <th>남해영해</th>\n",
              "      <th>대산항 및 진입수로</th>\n",
              "      <th>동남아</th>\n",
              "      <th>동해공해</th>\n",
              "      <th>동해영해</th>\n",
              "      <th>동해항, 묵호항, 속초항, 삼척항</th>\n",
              "      <th>마산항, 진해항, 진해만(가덕수로)</th>\n",
              "      <th>목포항 및 진입수로</th>\n",
              "      <th>부산거제수역(옥포, 장승포)</th>\n",
              "      <th>부산항 및 진입수로</th>\n",
              "      <th>삼천포, 통영항, 통영해만, 견내량수로</th>\n",
              "      <th>서해공해</th>\n",
              "      <th>서해영해</th>\n",
              "      <th>여수항, 광양항 및 진입수로</th>\n",
              "      <th>울산항(미포만포함), 포항항</th>\n",
              "      <th>원양</th>\n",
              "      <th>인천항 및 진입수로</th>\n",
              "      <th>일본수역</th>\n",
              "      <th>장항항,군산항 및 진입수로</th>\n",
              "      <th>제주항, 서귀포항</th>\n",
              "      <th>평택항, 당진항</th>\n",
              "    </tr>\n",
              "  </thead>\n",
              "  <tbody>\n",
              "    <tr>\n",
              "      <th>0</th>\n",
              "      <td>0</td>\n",
              "      <td>0</td>\n",
              "      <td>0</td>\n",
              "      <td>1</td>\n",
              "      <td>0</td>\n",
              "      <td>0</td>\n",
              "      <td>0</td>\n",
              "      <td>0</td>\n",
              "      <td>0</td>\n",
              "      <td>0</td>\n",
              "      <td>0</td>\n",
              "      <td>0</td>\n",
              "      <td>0</td>\n",
              "      <td>0</td>\n",
              "      <td>0</td>\n",
              "      <td>0</td>\n",
              "      <td>0</td>\n",
              "      <td>1</td>\n",
              "      <td>0</td>\n",
              "      <td>1</td>\n",
              "      <td>0</td>\n",
              "      <td>0</td>\n",
              "      <td>0</td>\n",
              "      <td>0</td>\n",
              "      <td>0</td>\n",
              "      <td>0</td>\n",
              "      <td>0</td>\n",
              "      <td>0</td>\n",
              "      <td>0</td>\n",
              "      <td>1</td>\n",
              "      <td>0</td>\n",
              "      <td>0</td>\n",
              "      <td>0</td>\n",
              "      <td>0</td>\n",
              "      <td>0</td>\n",
              "      <td>0</td>\n",
              "      <td>0</td>\n",
              "      <td>0</td>\n",
              "      <td>0</td>\n",
              "      <td>0</td>\n",
              "      <td>0</td>\n",
              "      <td>0</td>\n",
              "      <td>0</td>\n",
              "      <td>0</td>\n",
              "      <td>0</td>\n",
              "      <td>0</td>\n",
              "    </tr>\n",
              "    <tr>\n",
              "      <th>1</th>\n",
              "      <td>0</td>\n",
              "      <td>0</td>\n",
              "      <td>0</td>\n",
              "      <td>1</td>\n",
              "      <td>0</td>\n",
              "      <td>0</td>\n",
              "      <td>0</td>\n",
              "      <td>0</td>\n",
              "      <td>0</td>\n",
              "      <td>0</td>\n",
              "      <td>0</td>\n",
              "      <td>0</td>\n",
              "      <td>0</td>\n",
              "      <td>0</td>\n",
              "      <td>0</td>\n",
              "      <td>0</td>\n",
              "      <td>0</td>\n",
              "      <td>1</td>\n",
              "      <td>0</td>\n",
              "      <td>1</td>\n",
              "      <td>0</td>\n",
              "      <td>0</td>\n",
              "      <td>0</td>\n",
              "      <td>0</td>\n",
              "      <td>0</td>\n",
              "      <td>1</td>\n",
              "      <td>0</td>\n",
              "      <td>0</td>\n",
              "      <td>0</td>\n",
              "      <td>0</td>\n",
              "      <td>0</td>\n",
              "      <td>0</td>\n",
              "      <td>0</td>\n",
              "      <td>0</td>\n",
              "      <td>0</td>\n",
              "      <td>0</td>\n",
              "      <td>0</td>\n",
              "      <td>0</td>\n",
              "      <td>0</td>\n",
              "      <td>0</td>\n",
              "      <td>0</td>\n",
              "      <td>0</td>\n",
              "      <td>0</td>\n",
              "      <td>0</td>\n",
              "      <td>0</td>\n",
              "      <td>0</td>\n",
              "    </tr>\n",
              "    <tr>\n",
              "      <th>2</th>\n",
              "      <td>0</td>\n",
              "      <td>0</td>\n",
              "      <td>0</td>\n",
              "      <td>1</td>\n",
              "      <td>0</td>\n",
              "      <td>0</td>\n",
              "      <td>0</td>\n",
              "      <td>0</td>\n",
              "      <td>0</td>\n",
              "      <td>0</td>\n",
              "      <td>0</td>\n",
              "      <td>0</td>\n",
              "      <td>1</td>\n",
              "      <td>0</td>\n",
              "      <td>0</td>\n",
              "      <td>0</td>\n",
              "      <td>0</td>\n",
              "      <td>0</td>\n",
              "      <td>0</td>\n",
              "      <td>1</td>\n",
              "      <td>0</td>\n",
              "      <td>0</td>\n",
              "      <td>0</td>\n",
              "      <td>0</td>\n",
              "      <td>0</td>\n",
              "      <td>0</td>\n",
              "      <td>0</td>\n",
              "      <td>0</td>\n",
              "      <td>0</td>\n",
              "      <td>0</td>\n",
              "      <td>1</td>\n",
              "      <td>0</td>\n",
              "      <td>0</td>\n",
              "      <td>0</td>\n",
              "      <td>0</td>\n",
              "      <td>0</td>\n",
              "      <td>0</td>\n",
              "      <td>0</td>\n",
              "      <td>0</td>\n",
              "      <td>0</td>\n",
              "      <td>0</td>\n",
              "      <td>0</td>\n",
              "      <td>0</td>\n",
              "      <td>0</td>\n",
              "      <td>0</td>\n",
              "      <td>0</td>\n",
              "    </tr>\n",
              "    <tr>\n",
              "      <th>3</th>\n",
              "      <td>0</td>\n",
              "      <td>0</td>\n",
              "      <td>0</td>\n",
              "      <td>1</td>\n",
              "      <td>0</td>\n",
              "      <td>0</td>\n",
              "      <td>0</td>\n",
              "      <td>0</td>\n",
              "      <td>0</td>\n",
              "      <td>0</td>\n",
              "      <td>0</td>\n",
              "      <td>0</td>\n",
              "      <td>0</td>\n",
              "      <td>0</td>\n",
              "      <td>0</td>\n",
              "      <td>0</td>\n",
              "      <td>0</td>\n",
              "      <td>1</td>\n",
              "      <td>0</td>\n",
              "      <td>1</td>\n",
              "      <td>0</td>\n",
              "      <td>0</td>\n",
              "      <td>0</td>\n",
              "      <td>0</td>\n",
              "      <td>0</td>\n",
              "      <td>1</td>\n",
              "      <td>0</td>\n",
              "      <td>0</td>\n",
              "      <td>0</td>\n",
              "      <td>0</td>\n",
              "      <td>0</td>\n",
              "      <td>0</td>\n",
              "      <td>0</td>\n",
              "      <td>0</td>\n",
              "      <td>0</td>\n",
              "      <td>0</td>\n",
              "      <td>0</td>\n",
              "      <td>0</td>\n",
              "      <td>0</td>\n",
              "      <td>0</td>\n",
              "      <td>0</td>\n",
              "      <td>0</td>\n",
              "      <td>0</td>\n",
              "      <td>0</td>\n",
              "      <td>0</td>\n",
              "      <td>0</td>\n",
              "    </tr>\n",
              "    <tr>\n",
              "      <th>4</th>\n",
              "      <td>0</td>\n",
              "      <td>0</td>\n",
              "      <td>0</td>\n",
              "      <td>1</td>\n",
              "      <td>0</td>\n",
              "      <td>0</td>\n",
              "      <td>0</td>\n",
              "      <td>0</td>\n",
              "      <td>0</td>\n",
              "      <td>0</td>\n",
              "      <td>0</td>\n",
              "      <td>0</td>\n",
              "      <td>0</td>\n",
              "      <td>0</td>\n",
              "      <td>0</td>\n",
              "      <td>1</td>\n",
              "      <td>0</td>\n",
              "      <td>0</td>\n",
              "      <td>0</td>\n",
              "      <td>1</td>\n",
              "      <td>0</td>\n",
              "      <td>0</td>\n",
              "      <td>0</td>\n",
              "      <td>0</td>\n",
              "      <td>0</td>\n",
              "      <td>1</td>\n",
              "      <td>0</td>\n",
              "      <td>0</td>\n",
              "      <td>0</td>\n",
              "      <td>0</td>\n",
              "      <td>0</td>\n",
              "      <td>0</td>\n",
              "      <td>0</td>\n",
              "      <td>0</td>\n",
              "      <td>0</td>\n",
              "      <td>0</td>\n",
              "      <td>0</td>\n",
              "      <td>0</td>\n",
              "      <td>0</td>\n",
              "      <td>0</td>\n",
              "      <td>0</td>\n",
              "      <td>0</td>\n",
              "      <td>0</td>\n",
              "      <td>0</td>\n",
              "      <td>0</td>\n",
              "      <td>0</td>\n",
              "    </tr>\n",
              "  </tbody>\n",
              "</table>\n",
              "</div>"
            ],
            "text/plain": [
              "   10월  11월  12월  1월  2월  ...  인천항 및 진입수로  일본수역  장항항,군산항 및 진입수로  제주항, 서귀포항  평택항, 당진항\n",
              "0    0    0    0   1   0  ...           0     0               0          0         0\n",
              "1    0    0    0   1   0  ...           0     0               0          0         0\n",
              "2    0    0    0   1   0  ...           0     0               0          0         0\n",
              "3    0    0    0   1   0  ...           0     0               0          0         0\n",
              "4    0    0    0   1   0  ...           0     0               0          0         0\n",
              "\n",
              "[5 rows x 46 columns]"
            ]
          },
          "metadata": {
            "tags": []
          },
          "execution_count": 7
        }
      ]
    },
    {
      "cell_type": "markdown",
      "metadata": {
        "id": "baf3ONbe6caq"
      },
      "source": [
        "### 데이터 병합"
      ]
    },
    {
      "cell_type": "code",
      "metadata": {
        "colab": {
          "base_uri": "https://localhost:8080/",
          "height": 462
        },
        "id": "jMrA9-yr6dCh",
        "outputId": "f6d9509e-4a05-40b6-98eb-ac3d72e94e29"
      },
      "source": [
        "X = pd.concat([df_num_s,df_cat_h],axis=1)\n",
        "y = data['인명피해발생여부']\n",
        "X.head()"
      ],
      "execution_count": null,
      "outputs": [
        {
          "output_type": "execute_result",
          "data": {
            "text/html": [
              "<div>\n",
              "<style scoped>\n",
              "    .dataframe tbody tr th:only-of-type {\n",
              "        vertical-align: middle;\n",
              "    }\n",
              "\n",
              "    .dataframe tbody tr th {\n",
              "        vertical-align: top;\n",
              "    }\n",
              "\n",
              "    .dataframe thead th {\n",
              "        text-align: right;\n",
              "    }\n",
              "</style>\n",
              "<table border=\"1\" class=\"dataframe\">\n",
              "  <thead>\n",
              "    <tr style=\"text-align: right;\">\n",
              "      <th></th>\n",
              "      <th>파향</th>\n",
              "      <th>선박톤수</th>\n",
              "      <th>10월</th>\n",
              "      <th>11월</th>\n",
              "      <th>12월</th>\n",
              "      <th>1월</th>\n",
              "      <th>2월</th>\n",
              "      <th>3월</th>\n",
              "      <th>4월</th>\n",
              "      <th>5월</th>\n",
              "      <th>6월</th>\n",
              "      <th>7월</th>\n",
              "      <th>8월</th>\n",
              "      <th>9월</th>\n",
              "      <th>0-4시</th>\n",
              "      <th>12-16시</th>\n",
              "      <th>16-20시</th>\n",
              "      <th>20-24시</th>\n",
              "      <th>4-8시</th>\n",
              "      <th>8-12시</th>\n",
              "      <th>가을</th>\n",
              "      <th>겨울</th>\n",
              "      <th>봄</th>\n",
              "      <th>여름</th>\n",
              "      <th>기타</th>\n",
              "      <th>기타개항</th>\n",
              "      <th>남해공해</th>\n",
              "      <th>남해영해</th>\n",
              "      <th>대산항 및 진입수로</th>\n",
              "      <th>동남아</th>\n",
              "      <th>동해공해</th>\n",
              "      <th>동해영해</th>\n",
              "      <th>동해항, 묵호항, 속초항, 삼척항</th>\n",
              "      <th>마산항, 진해항, 진해만(가덕수로)</th>\n",
              "      <th>목포항 및 진입수로</th>\n",
              "      <th>부산거제수역(옥포, 장승포)</th>\n",
              "      <th>부산항 및 진입수로</th>\n",
              "      <th>삼천포, 통영항, 통영해만, 견내량수로</th>\n",
              "      <th>서해공해</th>\n",
              "      <th>서해영해</th>\n",
              "      <th>여수항, 광양항 및 진입수로</th>\n",
              "      <th>울산항(미포만포함), 포항항</th>\n",
              "      <th>원양</th>\n",
              "      <th>인천항 및 진입수로</th>\n",
              "      <th>일본수역</th>\n",
              "      <th>장항항,군산항 및 진입수로</th>\n",
              "      <th>제주항, 서귀포항</th>\n",
              "      <th>평택항, 당진항</th>\n",
              "    </tr>\n",
              "  </thead>\n",
              "  <tbody>\n",
              "    <tr>\n",
              "      <th>0</th>\n",
              "      <td>1.676582</td>\n",
              "      <td>-0.625961</td>\n",
              "      <td>0</td>\n",
              "      <td>0</td>\n",
              "      <td>0</td>\n",
              "      <td>1</td>\n",
              "      <td>0</td>\n",
              "      <td>0</td>\n",
              "      <td>0</td>\n",
              "      <td>0</td>\n",
              "      <td>0</td>\n",
              "      <td>0</td>\n",
              "      <td>0</td>\n",
              "      <td>0</td>\n",
              "      <td>0</td>\n",
              "      <td>0</td>\n",
              "      <td>0</td>\n",
              "      <td>0</td>\n",
              "      <td>0</td>\n",
              "      <td>1</td>\n",
              "      <td>0</td>\n",
              "      <td>1</td>\n",
              "      <td>0</td>\n",
              "      <td>0</td>\n",
              "      <td>0</td>\n",
              "      <td>0</td>\n",
              "      <td>0</td>\n",
              "      <td>0</td>\n",
              "      <td>0</td>\n",
              "      <td>0</td>\n",
              "      <td>0</td>\n",
              "      <td>1</td>\n",
              "      <td>0</td>\n",
              "      <td>0</td>\n",
              "      <td>0</td>\n",
              "      <td>0</td>\n",
              "      <td>0</td>\n",
              "      <td>0</td>\n",
              "      <td>0</td>\n",
              "      <td>0</td>\n",
              "      <td>0</td>\n",
              "      <td>0</td>\n",
              "      <td>0</td>\n",
              "      <td>0</td>\n",
              "      <td>0</td>\n",
              "      <td>0</td>\n",
              "      <td>0</td>\n",
              "      <td>0</td>\n",
              "    </tr>\n",
              "    <tr>\n",
              "      <th>1</th>\n",
              "      <td>1.161115</td>\n",
              "      <td>1.928970</td>\n",
              "      <td>0</td>\n",
              "      <td>0</td>\n",
              "      <td>0</td>\n",
              "      <td>1</td>\n",
              "      <td>0</td>\n",
              "      <td>0</td>\n",
              "      <td>0</td>\n",
              "      <td>0</td>\n",
              "      <td>0</td>\n",
              "      <td>0</td>\n",
              "      <td>0</td>\n",
              "      <td>0</td>\n",
              "      <td>0</td>\n",
              "      <td>0</td>\n",
              "      <td>0</td>\n",
              "      <td>0</td>\n",
              "      <td>0</td>\n",
              "      <td>1</td>\n",
              "      <td>0</td>\n",
              "      <td>1</td>\n",
              "      <td>0</td>\n",
              "      <td>0</td>\n",
              "      <td>0</td>\n",
              "      <td>0</td>\n",
              "      <td>0</td>\n",
              "      <td>1</td>\n",
              "      <td>0</td>\n",
              "      <td>0</td>\n",
              "      <td>0</td>\n",
              "      <td>0</td>\n",
              "      <td>0</td>\n",
              "      <td>0</td>\n",
              "      <td>0</td>\n",
              "      <td>0</td>\n",
              "      <td>0</td>\n",
              "      <td>0</td>\n",
              "      <td>0</td>\n",
              "      <td>0</td>\n",
              "      <td>0</td>\n",
              "      <td>0</td>\n",
              "      <td>0</td>\n",
              "      <td>0</td>\n",
              "      <td>0</td>\n",
              "      <td>0</td>\n",
              "      <td>0</td>\n",
              "      <td>0</td>\n",
              "    </tr>\n",
              "    <tr>\n",
              "      <th>2</th>\n",
              "      <td>1.455668</td>\n",
              "      <td>1.928970</td>\n",
              "      <td>0</td>\n",
              "      <td>0</td>\n",
              "      <td>0</td>\n",
              "      <td>1</td>\n",
              "      <td>0</td>\n",
              "      <td>0</td>\n",
              "      <td>0</td>\n",
              "      <td>0</td>\n",
              "      <td>0</td>\n",
              "      <td>0</td>\n",
              "      <td>0</td>\n",
              "      <td>0</td>\n",
              "      <td>1</td>\n",
              "      <td>0</td>\n",
              "      <td>0</td>\n",
              "      <td>0</td>\n",
              "      <td>0</td>\n",
              "      <td>0</td>\n",
              "      <td>0</td>\n",
              "      <td>1</td>\n",
              "      <td>0</td>\n",
              "      <td>0</td>\n",
              "      <td>0</td>\n",
              "      <td>0</td>\n",
              "      <td>0</td>\n",
              "      <td>0</td>\n",
              "      <td>0</td>\n",
              "      <td>0</td>\n",
              "      <td>0</td>\n",
              "      <td>0</td>\n",
              "      <td>1</td>\n",
              "      <td>0</td>\n",
              "      <td>0</td>\n",
              "      <td>0</td>\n",
              "      <td>0</td>\n",
              "      <td>0</td>\n",
              "      <td>0</td>\n",
              "      <td>0</td>\n",
              "      <td>0</td>\n",
              "      <td>0</td>\n",
              "      <td>0</td>\n",
              "      <td>0</td>\n",
              "      <td>0</td>\n",
              "      <td>0</td>\n",
              "      <td>0</td>\n",
              "      <td>0</td>\n",
              "    </tr>\n",
              "    <tr>\n",
              "      <th>3</th>\n",
              "      <td>-0.627242</td>\n",
              "      <td>-0.625623</td>\n",
              "      <td>0</td>\n",
              "      <td>0</td>\n",
              "      <td>0</td>\n",
              "      <td>1</td>\n",
              "      <td>0</td>\n",
              "      <td>0</td>\n",
              "      <td>0</td>\n",
              "      <td>0</td>\n",
              "      <td>0</td>\n",
              "      <td>0</td>\n",
              "      <td>0</td>\n",
              "      <td>0</td>\n",
              "      <td>0</td>\n",
              "      <td>0</td>\n",
              "      <td>0</td>\n",
              "      <td>0</td>\n",
              "      <td>0</td>\n",
              "      <td>1</td>\n",
              "      <td>0</td>\n",
              "      <td>1</td>\n",
              "      <td>0</td>\n",
              "      <td>0</td>\n",
              "      <td>0</td>\n",
              "      <td>0</td>\n",
              "      <td>0</td>\n",
              "      <td>1</td>\n",
              "      <td>0</td>\n",
              "      <td>0</td>\n",
              "      <td>0</td>\n",
              "      <td>0</td>\n",
              "      <td>0</td>\n",
              "      <td>0</td>\n",
              "      <td>0</td>\n",
              "      <td>0</td>\n",
              "      <td>0</td>\n",
              "      <td>0</td>\n",
              "      <td>0</td>\n",
              "      <td>0</td>\n",
              "      <td>0</td>\n",
              "      <td>0</td>\n",
              "      <td>0</td>\n",
              "      <td>0</td>\n",
              "      <td>0</td>\n",
              "      <td>0</td>\n",
              "      <td>0</td>\n",
              "      <td>0</td>\n",
              "    </tr>\n",
              "    <tr>\n",
              "      <th>4</th>\n",
              "      <td>-0.785039</td>\n",
              "      <td>0.792808</td>\n",
              "      <td>0</td>\n",
              "      <td>0</td>\n",
              "      <td>0</td>\n",
              "      <td>1</td>\n",
              "      <td>0</td>\n",
              "      <td>0</td>\n",
              "      <td>0</td>\n",
              "      <td>0</td>\n",
              "      <td>0</td>\n",
              "      <td>0</td>\n",
              "      <td>0</td>\n",
              "      <td>0</td>\n",
              "      <td>0</td>\n",
              "      <td>0</td>\n",
              "      <td>0</td>\n",
              "      <td>1</td>\n",
              "      <td>0</td>\n",
              "      <td>0</td>\n",
              "      <td>0</td>\n",
              "      <td>1</td>\n",
              "      <td>0</td>\n",
              "      <td>0</td>\n",
              "      <td>0</td>\n",
              "      <td>0</td>\n",
              "      <td>0</td>\n",
              "      <td>1</td>\n",
              "      <td>0</td>\n",
              "      <td>0</td>\n",
              "      <td>0</td>\n",
              "      <td>0</td>\n",
              "      <td>0</td>\n",
              "      <td>0</td>\n",
              "      <td>0</td>\n",
              "      <td>0</td>\n",
              "      <td>0</td>\n",
              "      <td>0</td>\n",
              "      <td>0</td>\n",
              "      <td>0</td>\n",
              "      <td>0</td>\n",
              "      <td>0</td>\n",
              "      <td>0</td>\n",
              "      <td>0</td>\n",
              "      <td>0</td>\n",
              "      <td>0</td>\n",
              "      <td>0</td>\n",
              "      <td>0</td>\n",
              "    </tr>\n",
              "  </tbody>\n",
              "</table>\n",
              "</div>"
            ],
            "text/plain": [
              "         파향      선박톤수  10월  11월  ...  일본수역  장항항,군산항 및 진입수로  제주항, 서귀포항  평택항, 당진항\n",
              "0  1.676582 -0.625961    0    0  ...     0               0          0         0\n",
              "1  1.161115  1.928970    0    0  ...     0               0          0         0\n",
              "2  1.455668  1.928970    0    0  ...     0               0          0         0\n",
              "3 -0.627242 -0.625623    0    0  ...     0               0          0         0\n",
              "4 -0.785039  0.792808    0    0  ...     0               0          0         0\n",
              "\n",
              "[5 rows x 48 columns]"
            ]
          },
          "metadata": {
            "tags": []
          },
          "execution_count": 8
        }
      ]
    },
    {
      "cell_type": "code",
      "metadata": {
        "id": "7GDCiWxu-kpY",
        "colab": {
          "base_uri": "https://localhost:8080/",
          "height": 635
        },
        "outputId": "ed2c4e7c-6da5-41cf-c86b-909bb5a7ca9d"
      },
      "source": [
        "plt.figure(figsize=(10,8))\n",
        "sns.heatmap(X.corr(),cmap='RdYlGn_r')\n",
        "plt.show()"
      ],
      "execution_count": null,
      "outputs": [
        {
          "output_type": "stream",
          "text": [
            "Glyph 8722 missing from current font.\n",
            "Glyph 8722 missing from current font.\n"
          ],
          "name": "stderr"
        },
        {
          "output_type": "display_data",
          "data": {
            "image/png": "[encoded data removed]",
            "text/plain": [
              "<Figure size 720x576 with 2 Axes>"
            ]
          },
          "metadata": {
            "tags": [],
            "needs_background": "light"
          }
        }
      ]
    },
    {
      "cell_type": "markdown",
      "metadata": {
        "id": "IrcB4xNiJk9R"
      },
      "source": [
        "## 모델링"
      ]
    },
    {
      "cell_type": "code",
      "metadata": {
        "id": "CyNxwn0D-ksv"
      },
      "source": [
        "### train / test 분할\n",
        "X_train, X_valid, y_train, y_valid = train_test_split(X, y, test_size=0.3, random_state=0)\n",
        "stf = StratifiedKFold(n_splits=5,shuffle=True, random_state=0)"
      ],
      "execution_count": null,
      "outputs": []
    },
    {
      "cell_type": "code",
      "metadata": {
        "id": "u6yhRUPEcfy6"
      },
      "source": [
        "# Modeling step Test differents algorithms \n",
        "\n",
        "classifiers = []\n",
        "classifiers.append(LogisticRegression(random_state = 0))\n",
        "#classifiers.append(XGBClassifier(random_state=0))\n",
        "classifiers.append(GradientBoostingClassifier(random_state=0))\n",
        "classifiers.append(LGBMClassifier(random_state=0))\n",
        "classifiers.append(RandomForestClassifier(random_state=0))\n",
        "\n",
        "cv_results = []\n",
        "for classifier in classifiers :\n",
        "    cv_results.append(cross_val_score(classifier, X_train, y = y_train,cv=stf,n_jobs=-1))\n",
        "\n",
        "cv_means = []\n",
        "cv_std = []\n",
        "for cv_result in cv_results:\n",
        "    cv_means.append(cv_result.mean())\n",
        "    cv_std.append(cv_result.std())\n",
        "\n",
        "cv_res = pd.DataFrame({\"CrossValMeans\":cv_means,\"CrossValerrors\": cv_std,\n",
        "                       \"Algorithm\":[\"LogisticRegression\",\"GradientBoosting\",\"LigtGBM\",\"RandomForest\"]}) # \"XGBoost\""
      ],
      "execution_count": null,
      "outputs": []
    },
    {
      "cell_type": "code",
      "metadata": {
        "colab": {
          "base_uri": "https://localhost:8080/",
          "height": 332
        },
        "id": "eLLbdL4Pbgex",
        "outputId": "dbe7cfac-30b6-47ed-a5b0-c7917073bdc8"
      },
      "source": [
        "g = sns.barplot(\"CrossValMeans\",\"Algorithm\",data = cv_res, palette=\"Set3\",orient = \"h\",**{'xerr':cv_std})\n",
        "g.set_xlabel(\"Cross validation mean score\")\n",
        "g = g.set_title(\"개별 모델 성능 비교\")"
      ],
      "execution_count": null,
      "outputs": [
        {
          "output_type": "stream",
          "text": [
            "Pass the following variables as keyword args: x, y. From version 0.12, the only valid positional argument will be `data`, and passing other arguments without an explicit keyword will result in an error or misinterpretation.\n"
          ],
          "name": "stderr"
        },
        {
          "output_type": "display_data",
          "data": {
            "image/png": "[encoded data removed]",
            "text/plain": [
              "<Figure size 432x288 with 1 Axes>"
            ]
          },
          "metadata": {
            "tags": [],
            "needs_background": "light"
          }
        }
      ]
    },
    {
      "cell_type": "code",
      "metadata": {
        "colab": {
          "base_uri": "https://localhost:8080/",
          "height": 173
        },
        "id": "0uQN4qX5bghF",
        "outputId": "b546be90-add9-4353-fe5c-4d9ebce86343"
      },
      "source": [
        "cv_res.sort_values(by='CrossValMeans',ascending=False) # 로지스틱회귀가 가장 높음"
      ],
      "execution_count": null,
      "outputs": [
        {
          "output_type": "execute_result",
          "data": {
            "text/html": [
              "<div>\n",
              "<style scoped>\n",
              "    .dataframe tbody tr th:only-of-type {\n",
              "        vertical-align: middle;\n",
              "    }\n",
              "\n",
              "    .dataframe tbody tr th {\n",
              "        vertical-align: top;\n",
              "    }\n",
              "\n",
              "    .dataframe thead th {\n",
              "        text-align: right;\n",
              "    }\n",
              "</style>\n",
              "<table border=\"1\" class=\"dataframe\">\n",
              "  <thead>\n",
              "    <tr style=\"text-align: right;\">\n",
              "      <th></th>\n",
              "      <th>CrossValMeans</th>\n",
              "      <th>CrossValerrors</th>\n",
              "      <th>Algorithm</th>\n",
              "    </tr>\n",
              "  </thead>\n",
              "  <tbody>\n",
              "    <tr>\n",
              "      <th>0</th>\n",
              "      <td>0.898739</td>\n",
              "      <td>0.000187</td>\n",
              "      <td>LogisticRegression</td>\n",
              "    </tr>\n",
              "    <tr>\n",
              "      <th>1</th>\n",
              "      <td>0.898459</td>\n",
              "      <td>0.000374</td>\n",
              "      <td>GradientBoosting</td>\n",
              "    </tr>\n",
              "    <tr>\n",
              "      <th>2</th>\n",
              "      <td>0.897805</td>\n",
              "      <td>0.001121</td>\n",
              "      <td>LigtGBM</td>\n",
              "    </tr>\n",
              "    <tr>\n",
              "      <th>3</th>\n",
              "      <td>0.881177</td>\n",
              "      <td>0.003050</td>\n",
              "      <td>RandomForest</td>\n",
              "    </tr>\n",
              "  </tbody>\n",
              "</table>\n",
              "</div>"
            ],
            "text/plain": [
              "   CrossValMeans  CrossValerrors           Algorithm\n",
              "0       0.898739        0.000187  LogisticRegression\n",
              "1       0.898459        0.000374    GradientBoosting\n",
              "2       0.897805        0.001121             LigtGBM\n",
              "3       0.881177        0.003050        RandomForest"
            ]
          },
          "metadata": {
            "tags": []
          },
          "execution_count": 26
        }
      ]
    },
    {
      "cell_type": "markdown",
      "metadata": {
        "id": "ZDgvnGyphzDG"
      },
      "source": [
        "### 로지스틱 회귀"
      ]
    },
    {
      "cell_type": "code",
      "metadata": {
        "id": "XkbXk8w06v6K",
        "colab": {
          "base_uri": "https://localhost:8080/"
        },
        "outputId": "ce78e218-2fc6-4a74-9677-a1fbc78e9dd1"
      },
      "source": [
        "### 로지스틱 회귀\n",
        "lr_model = LogisticRegression(random_state=0)\n",
        "score = cross_val_score(lr_model, X_train,y_train,cv=stf)\n",
        "print(score)\n",
        "print(score.mean())\n",
        "# 로지스틱회귀 교차검증 결과 정확도 약 89%"
      ],
      "execution_count": null,
      "outputs": [
        {
          "output_type": "stream",
          "text": [
            "[0.89911256 0.89864549 0.89864549 0.89864549 0.89864549]\n",
            "0.898738907052779\n"
          ],
          "name": "stdout"
        }
      ]
    },
    {
      "cell_type": "code",
      "metadata": {
        "colab": {
          "base_uri": "https://localhost:8080/"
        },
        "id": "rg5GjLx2_J-l",
        "outputId": "b6d89a8c-df08-4dec-e84f-9b3f332878f6"
      },
      "source": [
        "lr_model.fit(X_train,y_train)\n",
        "lr_model.score(X_valid,y_valid)\n",
        "# 로지스틱회귀 test data set에서 정확도 약 90%"
      ],
      "execution_count": null,
      "outputs": [
        {
          "output_type": "execute_result",
          "data": {
            "text/plain": [
              "0.9032468947483112"
            ]
          },
          "metadata": {
            "tags": []
          },
          "execution_count": 20
        }
      ]
    },
    {
      "cell_type": "code",
      "metadata": {
        "id": "tt5Ung7rlggQ"
      },
      "source": [
        "for feature in zip(X_train.columns,lr_model.coef_.reshape(-1,1).tolist()):\n",
        "  print(feature)"
      ],
      "execution_count": null,
      "outputs": []
    },
    {
      "cell_type": "code",
      "metadata": {
        "colab": {
          "base_uri": "https://localhost:8080/",
          "height": 1000
        },
        "id": "HrCJKDls0hed",
        "outputId": "d96bd533-119d-48d6-8627-b312f779c3b8"
      },
      "source": [
        "td = pd.DataFrame({'column':X_train.columns})\n",
        "td2 = pd.DataFrame(np.exp(lr_model.coef_)).T\n",
        "td2.columns = ['coef']\n",
        "codf = pd.concat([td,td2],axis=1)\n",
        "codf.sort_values('coef',ascending=False)"
      ],
      "execution_count": null,
      "outputs": [
        {
          "output_type": "execute_result",
          "data": {
            "text/html": [
              "<div>\n",
              "<style scoped>\n",
              "    .dataframe tbody tr th:only-of-type {\n",
              "        vertical-align: middle;\n",
              "    }\n",
              "\n",
              "    .dataframe tbody tr th {\n",
              "        vertical-align: top;\n",
              "    }\n",
              "\n",
              "    .dataframe thead th {\n",
              "        text-align: right;\n",
              "    }\n",
              "</style>\n",
              "<table border=\"1\" class=\"dataframe\">\n",
              "  <thead>\n",
              "    <tr style=\"text-align: right;\">\n",
              "      <th></th>\n",
              "      <th>column</th>\n",
              "      <th>coef</th>\n",
              "    </tr>\n",
              "  </thead>\n",
              "  <tbody>\n",
              "    <tr>\n",
              "      <th>38</th>\n",
              "      <td>서해공해</td>\n",
              "      <td>2.661761</td>\n",
              "    </tr>\n",
              "    <tr>\n",
              "      <th>24</th>\n",
              "      <td>기타</td>\n",
              "      <td>2.165529</td>\n",
              "    </tr>\n",
              "    <tr>\n",
              "      <th>42</th>\n",
              "      <td>원양</td>\n",
              "      <td>2.115478</td>\n",
              "    </tr>\n",
              "    <tr>\n",
              "      <th>28</th>\n",
              "      <td>대산항 및 진입수로</td>\n",
              "      <td>1.863897</td>\n",
              "    </tr>\n",
              "    <tr>\n",
              "      <th>44</th>\n",
              "      <td>일본수역</td>\n",
              "      <td>1.494396</td>\n",
              "    </tr>\n",
              "    <tr>\n",
              "      <th>35</th>\n",
              "      <td>부산거제수역(옥포, 장승포)</td>\n",
              "      <td>1.454711</td>\n",
              "    </tr>\n",
              "    <tr>\n",
              "      <th>26</th>\n",
              "      <td>남해공해</td>\n",
              "      <td>1.447655</td>\n",
              "    </tr>\n",
              "    <tr>\n",
              "      <th>40</th>\n",
              "      <td>여수항, 광양항 및 진입수로</td>\n",
              "      <td>1.350433</td>\n",
              "    </tr>\n",
              "    <tr>\n",
              "      <th>6</th>\n",
              "      <td>2월</td>\n",
              "      <td>1.305066</td>\n",
              "    </tr>\n",
              "    <tr>\n",
              "      <th>39</th>\n",
              "      <td>서해영해</td>\n",
              "      <td>1.304847</td>\n",
              "    </tr>\n",
              "    <tr>\n",
              "      <th>18</th>\n",
              "      <td>4-8시</td>\n",
              "      <td>1.183849</td>\n",
              "    </tr>\n",
              "    <tr>\n",
              "      <th>3</th>\n",
              "      <td>11월</td>\n",
              "      <td>1.134602</td>\n",
              "    </tr>\n",
              "    <tr>\n",
              "      <th>19</th>\n",
              "      <td>8-12시</td>\n",
              "      <td>1.126200</td>\n",
              "    </tr>\n",
              "    <tr>\n",
              "      <th>41</th>\n",
              "      <td>울산항(미포만포함), 포항항</td>\n",
              "      <td>1.125212</td>\n",
              "    </tr>\n",
              "    <tr>\n",
              "      <th>21</th>\n",
              "      <td>겨울</td>\n",
              "      <td>1.121328</td>\n",
              "    </tr>\n",
              "    <tr>\n",
              "      <th>1</th>\n",
              "      <td>선박톤수</td>\n",
              "      <td>1.114247</td>\n",
              "    </tr>\n",
              "    <tr>\n",
              "      <th>17</th>\n",
              "      <td>20-24시</td>\n",
              "      <td>1.072121</td>\n",
              "    </tr>\n",
              "    <tr>\n",
              "      <th>29</th>\n",
              "      <td>동남아</td>\n",
              "      <td>1.051925</td>\n",
              "    </tr>\n",
              "    <tr>\n",
              "      <th>7</th>\n",
              "      <td>3월</td>\n",
              "      <td>1.039578</td>\n",
              "    </tr>\n",
              "    <tr>\n",
              "      <th>8</th>\n",
              "      <td>4월</td>\n",
              "      <td>1.028313</td>\n",
              "    </tr>\n",
              "    <tr>\n",
              "      <th>0</th>\n",
              "      <td>파향</td>\n",
              "      <td>1.017408</td>\n",
              "    </tr>\n",
              "    <tr>\n",
              "      <th>22</th>\n",
              "      <td>봄</td>\n",
              "      <td>1.011565</td>\n",
              "    </tr>\n",
              "    <tr>\n",
              "      <th>20</th>\n",
              "      <td>가을</td>\n",
              "      <td>1.002903</td>\n",
              "    </tr>\n",
              "    <tr>\n",
              "      <th>10</th>\n",
              "      <td>6월</td>\n",
              "      <td>0.976514</td>\n",
              "    </tr>\n",
              "    <tr>\n",
              "      <th>5</th>\n",
              "      <td>1월</td>\n",
              "      <td>0.970269</td>\n",
              "    </tr>\n",
              "    <tr>\n",
              "      <th>14</th>\n",
              "      <td>0-4시</td>\n",
              "      <td>0.963723</td>\n",
              "    </tr>\n",
              "    <tr>\n",
              "      <th>12</th>\n",
              "      <td>8월</td>\n",
              "      <td>0.950516</td>\n",
              "    </tr>\n",
              "    <tr>\n",
              "      <th>9</th>\n",
              "      <td>5월</td>\n",
              "      <td>0.946261</td>\n",
              "    </tr>\n",
              "    <tr>\n",
              "      <th>2</th>\n",
              "      <td>10월</td>\n",
              "      <td>0.945682</td>\n",
              "    </tr>\n",
              "    <tr>\n",
              "      <th>27</th>\n",
              "      <td>남해영해</td>\n",
              "      <td>0.938995</td>\n",
              "    </tr>\n",
              "    <tr>\n",
              "      <th>13</th>\n",
              "      <td>9월</td>\n",
              "      <td>0.934695</td>\n",
              "    </tr>\n",
              "    <tr>\n",
              "      <th>11</th>\n",
              "      <td>7월</td>\n",
              "      <td>0.934266</td>\n",
              "    </tr>\n",
              "    <tr>\n",
              "      <th>36</th>\n",
              "      <td>부산항 및 진입수로</td>\n",
              "      <td>0.921064</td>\n",
              "    </tr>\n",
              "    <tr>\n",
              "      <th>31</th>\n",
              "      <td>동해영해</td>\n",
              "      <td>0.888023</td>\n",
              "    </tr>\n",
              "    <tr>\n",
              "      <th>4</th>\n",
              "      <td>12월</td>\n",
              "      <td>0.885540</td>\n",
              "    </tr>\n",
              "    <tr>\n",
              "      <th>37</th>\n",
              "      <td>삼천포, 통영항, 통영해만, 견내량수로</td>\n",
              "      <td>0.870137</td>\n",
              "    </tr>\n",
              "    <tr>\n",
              "      <th>23</th>\n",
              "      <td>여름</td>\n",
              "      <td>0.867178</td>\n",
              "    </tr>\n",
              "    <tr>\n",
              "      <th>16</th>\n",
              "      <td>16-20시</td>\n",
              "      <td>0.853225</td>\n",
              "    </tr>\n",
              "    <tr>\n",
              "      <th>15</th>\n",
              "      <td>12-16시</td>\n",
              "      <td>0.839308</td>\n",
              "    </tr>\n",
              "    <tr>\n",
              "      <th>30</th>\n",
              "      <td>동해공해</td>\n",
              "      <td>0.835235</td>\n",
              "    </tr>\n",
              "    <tr>\n",
              "      <th>43</th>\n",
              "      <td>인천항 및 진입수로</td>\n",
              "      <td>0.695060</td>\n",
              "    </tr>\n",
              "    <tr>\n",
              "      <th>33</th>\n",
              "      <td>마산항, 진해항, 진해만(가덕수로)</td>\n",
              "      <td>0.692262</td>\n",
              "    </tr>\n",
              "    <tr>\n",
              "      <th>45</th>\n",
              "      <td>장항항,군산항 및 진입수로</td>\n",
              "      <td>0.633557</td>\n",
              "    </tr>\n",
              "    <tr>\n",
              "      <th>32</th>\n",
              "      <td>동해항, 묵호항, 속초항, 삼척항</td>\n",
              "      <td>0.633547</td>\n",
              "    </tr>\n",
              "    <tr>\n",
              "      <th>25</th>\n",
              "      <td>기타개항</td>\n",
              "      <td>0.544914</td>\n",
              "    </tr>\n",
              "    <tr>\n",
              "      <th>34</th>\n",
              "      <td>목포항 및 진입수로</td>\n",
              "      <td>0.540918</td>\n",
              "    </tr>\n",
              "    <tr>\n",
              "      <th>47</th>\n",
              "      <td>평택항, 당진항</td>\n",
              "      <td>0.536344</td>\n",
              "    </tr>\n",
              "    <tr>\n",
              "      <th>46</th>\n",
              "      <td>제주항, 서귀포항</td>\n",
              "      <td>0.388005</td>\n",
              "    </tr>\n",
              "  </tbody>\n",
              "</table>\n",
              "</div>"
            ],
            "text/plain": [
              "                   column      coef\n",
              "38                   서해공해  2.661761\n",
              "24                     기타  2.165529\n",
              "42                     원양  2.115478\n",
              "28             대산항 및 진입수로  1.863897\n",
              "44                   일본수역  1.494396\n",
              "35        부산거제수역(옥포, 장승포)  1.454711\n",
              "26                   남해공해  1.447655\n",
              "40        여수항, 광양항 및 진입수로  1.350433\n",
              "6                      2월  1.305066\n",
              "39                   서해영해  1.304847\n",
              "18                   4-8시  1.183849\n",
              "3                     11월  1.134602\n",
              "19                  8-12시  1.126200\n",
              "41        울산항(미포만포함), 포항항  1.125212\n",
              "21                     겨울  1.121328\n",
              "1                    선박톤수  1.114247\n",
              "17                 20-24시  1.072121\n",
              "29                    동남아  1.051925\n",
              "7                      3월  1.039578\n",
              "8                      4월  1.028313\n",
              "0                      파향  1.017408\n",
              "22                      봄  1.011565\n",
              "20                     가을  1.002903\n",
              "10                     6월  0.976514\n",
              "5                      1월  0.970269\n",
              "14                   0-4시  0.963723\n",
              "12                     8월  0.950516\n",
              "9                      5월  0.946261\n",
              "2                     10월  0.945682\n",
              "27                   남해영해  0.938995\n",
              "13                     9월  0.934695\n",
              "11                     7월  0.934266\n",
              "36             부산항 및 진입수로  0.921064\n",
              "31                   동해영해  0.888023\n",
              "4                     12월  0.885540\n",
              "37  삼천포, 통영항, 통영해만, 견내량수로  0.870137\n",
              "23                     여름  0.867178\n",
              "16                 16-20시  0.853225\n",
              "15                 12-16시  0.839308\n",
              "30                   동해공해  0.835235\n",
              "43             인천항 및 진입수로  0.695060\n",
              "33    마산항, 진해항, 진해만(가덕수로)  0.692262\n",
              "45         장항항,군산항 및 진입수로  0.633557\n",
              "32     동해항, 묵호항, 속초항, 삼척항  0.633547\n",
              "25                   기타개항  0.544914\n",
              "34             목포항 및 진입수로  0.540918\n",
              "47               평택항, 당진항  0.536344\n",
              "46              제주항, 서귀포항  0.388005"
            ]
          },
          "metadata": {
            "tags": []
          },
          "execution_count": 69
        }
      ]
    },
    {
      "cell_type": "markdown",
      "metadata": {
        "id": "UK49xk1-ti10"
      },
      "source": [
        "### Gradient Boosting"
      ]
    },
    {
      "cell_type": "code",
      "metadata": {
        "colab": {
          "base_uri": "https://localhost:8080/"
        },
        "id": "vKUzBIamtm_7",
        "outputId": "ee3a827f-f062-4c72-899b-69b87939bbc6"
      },
      "source": [
        "### GBM\n",
        "gbm_model = GradientBoostingClassifier(random_state=0)\n",
        "score = cross_val_score(gbm_model, X_train,y_train,cv=stf)\n",
        "print(score)\n",
        "print(score.mean())\n",
        "# GBM 교차검증 결과 약 89%"
      ],
      "execution_count": null,
      "outputs": [
        {
          "output_type": "stream",
          "text": [
            "[0.89911256 0.89817842 0.89817842 0.89864549 0.89817842]\n",
            "0.8984586641756188\n"
          ],
          "name": "stdout"
        }
      ]
    },
    {
      "cell_type": "code",
      "metadata": {
        "colab": {
          "base_uri": "https://localhost:8080/"
        },
        "id": "Omhjgbuctm_8",
        "outputId": "c70d6ecf-ff19-4e72-e507-d93bd825883b"
      },
      "source": [
        "gbm_model.fit(X_train,y_train)\n",
        "gbm_model.score(X_valid,y_valid)\n",
        "# GBM test data set에서 정확도 약 90%"
      ],
      "execution_count": null,
      "outputs": [
        {
          "output_type": "execute_result",
          "data": {
            "text/plain": [
              "0.9023752451514491"
            ]
          },
          "metadata": {
            "tags": []
          },
          "execution_count": 13
        }
      ]
    },
    {
      "cell_type": "markdown",
      "metadata": {
        "id": "pE63CRA-mv5j"
      },
      "source": [
        "### XGBoost"
      ]
    },
    {
      "cell_type": "code",
      "metadata": {
        "colab": {
          "base_uri": "https://localhost:8080/"
        },
        "id": "SdKIEiXRrQbO",
        "outputId": "5643e3ff-d273-48d0-a735-541c19b117e6"
      },
      "source": [
        "### XGBOOST\n",
        "xgb_model = XGBClassifier(random_state=0)\n",
        "score = cross_val_score(xgb_model, X_train,y_train,cv=stf)\n",
        "print(score)\n",
        "print(score.mean())\n",
        "# XGB 교차검증 결과 약 89%"
      ],
      "execution_count": null,
      "outputs": [
        {
          "output_type": "stream",
          "text": [
            "[0.89911256 0.89864549 0.89864549 0.89864549 0.89864549]\n",
            "0.898738907052779\n"
          ],
          "name": "stdout"
        }
      ]
    },
    {
      "cell_type": "code",
      "metadata": {
        "colab": {
          "base_uri": "https://localhost:8080/"
        },
        "id": "d7FuCDLglgix",
        "outputId": "02844911-037e-4028-c9d3-e693afc4cd86"
      },
      "source": [
        "xgb_model.fit(X_train,y_train)\n",
        "xgb_model.score(X_valid,y_valid)\n",
        "# XGB test data set에서 정확도 약 90%"
      ],
      "execution_count": null,
      "outputs": [
        {
          "output_type": "execute_result",
          "data": {
            "text/plain": [
              "0.9032468947483112"
            ]
          },
          "metadata": {
            "tags": []
          },
          "execution_count": 15
        }
      ]
    },
    {
      "cell_type": "markdown",
      "metadata": {
        "id": "jsgylAls32Dn"
      },
      "source": [
        "### Random Forest"
      ]
    },
    {
      "cell_type": "code",
      "metadata": {
        "colab": {
          "base_uri": "https://localhost:8080/"
        },
        "id": "ql34HjRu31XS",
        "outputId": "b721098d-67b4-4835-f2d3-afd38ca78897"
      },
      "source": [
        "### Random Forest\n",
        "rf_model = RandomForestClassifier(random_state=0)\n",
        "score = cross_val_score(rf_model, X_train,y_train,cv=stf)\n",
        "print(score)\n",
        "print(score.mean())\n",
        "# RF 교차검증 결과 약 88.11%"
      ],
      "execution_count": null,
      "outputs": [
        {
          "output_type": "stream",
          "text": [
            "[0.87575899 0.88183092 0.88089678 0.88229799 0.88510042]\n",
            "0.8811770200840728\n"
          ],
          "name": "stdout"
        }
      ]
    },
    {
      "cell_type": "code",
      "metadata": {
        "colab": {
          "base_uri": "https://localhost:8080/"
        },
        "id": "UJui5WRV31XS",
        "outputId": "12e03295-de63-43c9-f7e0-23c0743d59f3"
      },
      "source": [
        "rf_model.fit(X_train,y_train)\n",
        "rf_model.score(X_valid,y_valid)\n",
        "# RF test data set에서 정확도 약 88.01%"
      ],
      "execution_count": null,
      "outputs": [
        {
          "output_type": "execute_result",
          "data": {
            "text/plain": [
              "0.8801481804314666"
            ]
          },
          "metadata": {
            "tags": []
          },
          "execution_count": 20
        }
      ]
    },
    {
      "cell_type": "markdown",
      "metadata": {
        "id": "t-oawtcv1NhA"
      },
      "source": [
        "### Feature importance"
      ]
    },
    {
      "cell_type": "code",
      "metadata": {
        "colab": {
          "base_uri": "https://localhost:8080/",
          "height": 312
        },
        "id": "gFVrrvAP3WiA",
        "outputId": "78c10aff-4586-4cfe-e09b-10e94060bfa1"
      },
      "source": [
        "gbm_model.fit(X_train,y_train)\n",
        "\n",
        "features = X_train.columns[:10]\n",
        "importances = gbm_model.feature_importances_[:10]\n",
        "indices = np.argsort(importances)\n",
        "\n",
        "plt.figure(1)\n",
        "plt.title('Feature Importances')\n",
        "plt.barh(range(len(indices)), importances[indices], color='b', align='center')\n",
        "plt.yticks(range(len(indices)), features[indices])\n",
        "plt.xlabel('Relative Importance')"
      ],
      "execution_count": null,
      "outputs": [
        {
          "output_type": "execute_result",
          "data": {
            "text/plain": [
              "Text(0.5, 0, 'Relative Importance')"
            ]
          },
          "metadata": {
            "tags": []
          },
          "execution_count": 23
        },
        {
          "output_type": "display_data",
          "data": {
            "image/png": "[encoded data removed]",
            "text/plain": [
              "<Figure size 432x288 with 1 Axes>"
            ]
          },
          "metadata": {
            "tags": [],
            "needs_background": "light"
          }
        }
      ]
    }
  ]
}